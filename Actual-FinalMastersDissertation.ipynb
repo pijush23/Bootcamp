{
  "cells": [
    {
      "cell_type": "markdown",
      "source": [
        "### Resume Parser by Regular Expression"
      ],
      "metadata": {
        "id": "zs4pkWdlxzOd"
      }
    },
    {
      "cell_type": "code",
      "source": [
        "import regex as re"
      ],
      "metadata": {
        "id": "KKC5r7Me5hqV"
      },
      "execution_count": 23,
      "outputs": []
    },
    {
      "cell_type": "code",
      "source": [
        "!pip install pdfminer.six"
      ],
      "metadata": {
        "id": "EOneretC6NFk"
      },
      "execution_count": null,
      "outputs": []
    },
    {
      "cell_type": "code",
      "source": [
        "!pip install docx2txt"
      ],
      "metadata": {
        "id": "T-R3zjF-6m1N"
      },
      "execution_count": null,
      "outputs": []
    },
    {
      "cell_type": "code",
      "source": [
        "!pip install nlp"
      ],
      "metadata": {
        "id": "a8-Hn96DtBdK"
      },
      "execution_count": null,
      "outputs": []
    },
    {
      "cell_type": "code",
      "source": [
        "!pip install spacy"
      ],
      "metadata": {
        "id": "lD2NIJFR-db4"
      },
      "execution_count": null,
      "outputs": []
    },
    {
      "cell_type": "markdown",
      "source": [
        "**Extracting Text from PDF**"
      ],
      "metadata": {
        "id": "yOCm4beH54AT"
      }
    },
    {
      "cell_type": "code",
      "source": [
        "import pdfminer\n",
        "from io import StringIO\n",
        "from pdfminer.pdfinterp import PDFResourceManager, PDFPageInterpreter\n",
        "from pdfminer.converter import TextConverter\n",
        "from pdfminer.layout import LAParams\n",
        "from pdfminer.pdfpage import PDFPage\n",
        "import docx2txt\n",
        "import os"
      ],
      "metadata": {
        "id": "fWRNVmhG57Vy"
      },
      "execution_count": 28,
      "outputs": []
    },
    {
      "cell_type": "code",
      "source": [
        "rootdir = '/content/drive/MyDrive/DataForMasterProject/ActualDataFolder/RegExData'\n",
        "files = os.listdir(rootdir)\n",
        "file_names = []\n",
        "for file in os.listdir(rootdir):\n",
        "    file_names.append(os.path.join(rootdir, file))\n",
        "file_names"
      ],
      "metadata": {
        "id": "w6spDi5MN5z0"
      },
      "execution_count": null,
      "outputs": []
    },
    {
      "cell_type": "code",
      "source": [
        "def open_pdf_file(file_name):\n",
        "    output = StringIO()\n",
        "    manager = PDFResourceManager()\n",
        "    converter = TextConverter(manager, output, laparams=LAParams())\n",
        "    interpreter = PDFPageInterpreter(manager, converter)\n",
        "\n",
        "    pagenums = set()\n",
        "    infile = open(file_name, 'rb')\n",
        "    for page in PDFPage.get_pages(infile, pagenums):\n",
        "        interpreter.process_page(page)\n",
        "    infile.close()\n",
        "    converter.close()\n",
        "    text = output.getvalue()\n",
        "    output.close()\n",
        "\n",
        "    result = []\n",
        "\n",
        "    for line in text.split('\\n'):\n",
        "        line2 = line.strip()\n",
        "        if line2 != '':\n",
        "            result.append(line2)\n",
        "    return (result)"
      ],
      "metadata": {
        "id": "vHp8p7V-7piI"
      },
      "execution_count": 10,
      "outputs": []
    },
    {
      "cell_type": "code",
      "source": [
        "def open_docx_file(file_name):\n",
        "    temp = docx2txt.process(file_names[0])\n",
        "    text = [line.replace('\\t', ' ') for line in temp.split('\\n') if line]\n",
        "    text = [t for t in text if len(t) > 1]\n",
        "    return (text)"
      ],
      "metadata": {
        "id": "HTgiksus7wky"
      },
      "execution_count": 30,
      "outputs": []
    },
    {
      "cell_type": "code",
      "source": [
        "def remove_punctuations(line):\n",
        "    return re.sub(r'(\\.|\\,)', '', line)\n",
        "\n",
        "def preprocess_document(document):\n",
        "    for index, line in enumerate(document):\n",
        "        line = line.lower()\n",
        "        line = remove_punctuations(line)\n",
        "\n",
        "        line = line.split(' ')\n",
        "        while '' in line:\n",
        "            line.remove('')\n",
        "\n",
        "        while ' '  in line:\n",
        "            line.remove(' ')\n",
        "\n",
        "\n",
        "        document[index] = ' '.join(line)\n",
        "    return (document)"
      ],
      "metadata": {
        "id": "oKIGBX0N71KU"
      },
      "execution_count": 31,
      "outputs": []
    },
    {
      "cell_type": "code",
      "source": [
        "#Name\n",
        "import spacy\n",
        "from spacy.matcher import Matcher\n",
        "\n",
        "# load pre-trained model\n",
        "nlp = spacy.load('en_core_web_sm')\n",
        "\n",
        "# initialize matcher with a vocab\n",
        "matcher = Matcher(nlp.vocab)\n",
        "\n",
        "def extract_name(resume_text):\n",
        "    nlp_text = nlp(resume_text)\n",
        "\n",
        "    # First name and Last name are always Proper Nouns\n",
        "    pattern = [{'POS': 'PROPN'}, {'POS': 'PROPN'}]\n",
        "\n",
        "    matcher.add('NAME', [pattern], on_match = None)\n",
        "\n",
        "    matches = matcher(nlp_text)\n",
        "\n",
        "    for match_id, start, end in matches:\n",
        "        span = nlp_text[start:end]\n",
        "        return span.text\n",
        "\n",
        "\n",
        "#name = extract_name(text)\n",
        "#print(name)\n",
        "#extracted_text[\"Name\"] = name"
      ],
      "metadata": {
        "id": "MiduBC-Gt4us"
      },
      "execution_count": 32,
      "outputs": []
    },
    {
      "cell_type": "code",
      "source": [
        "def get_email(document):\n",
        "    #Further optimization to be done.\n",
        "    emails = []\n",
        "    pattern = re.compile(r'\\w+@[a-zA-Z_]+?\\.[a-zA-Z]{2,3}')\n",
        "    for line in document:\n",
        "        matches = pattern.findall(line)\n",
        "        for mat in matches:\n",
        "            if len(mat) > 0:\n",
        "                emails.append(mat)\n",
        "    #print (emails)\n",
        "    return (emails)"
      ],
      "metadata": {
        "id": "4F-AbiFXJzoL"
      },
      "execution_count": 33,
      "outputs": []
    },
    {
      "cell_type": "code",
      "source": [
        "def get_phone_no(document):\n",
        "    #This function has to be further modified better and accurate results.\n",
        "    #Possible phone number formats - Including +91 or just with the numbers.\n",
        "\n",
        "    mob_num_regex = r'''(\\d{3}[-\\.\\s]??\\d{3}[-\\.\\s]??\\d{4}|\\(\\d{3}\\)\n",
        "                        [-\\.\\s]*\\d{3}[-\\.\\s]??\\d{4}|\\d{5}[-\\.\\s]??\\d{4})'''\n",
        "    pattern = re.compile(mob_num_regex)\n",
        "    matches = []\n",
        "    for line in document:\n",
        "        match = pattern.findall(line)\n",
        "        for mat in match:\n",
        "            if len(mat) > 9:\n",
        "                matches.append(mat)\n",
        "\n",
        "    return (matches)"
      ],
      "metadata": {
        "id": "tVIxq1zQKcfL"
      },
      "execution_count": 34,
      "outputs": []
    },
    {
      "cell_type": "code",
      "source": [
        "EDU_PATH='/content/drive/MyDrive/DataForMasterProject/ActualDataFolder/education.txt'\n",
        "def get_education(document):\n",
        "    education_terms = []\n",
        "    with open(EDU_PATH, 'r') as file:\n",
        "        education_terms = file.readlines()\n",
        "\n",
        "    education_terms = [term.strip('\\n') for term in education_terms]\n",
        "    education = []\n",
        "    for line in document:\n",
        "        for word in line.split(' '):\n",
        "            if len(word) > 2 and word in education_terms:\n",
        "                if line not in education:\n",
        "                    education.append(line)\n",
        "    #print (education)\n",
        "    return (education)"
      ],
      "metadata": {
        "id": "iEprnFHqKjlb"
      },
      "execution_count": 35,
      "outputs": []
    },
    {
      "cell_type": "code",
      "source": [
        "SKILL_PATH='/content/drive/MyDrive/DataForMasterProject/ActualDataFolder/skills.txt'\n",
        "def get_skills(document):\n",
        "    skill_terms = []\n",
        "    with open(SKILL_PATH, 'r') as file:\n",
        "        skill_terms = file.readlines()\n",
        "\n",
        "    skill_terms = [term.strip('\\n') for term in skill_terms]\n",
        "    skills = []\n",
        "\n",
        "    for line in document:\n",
        "        words = line.split(' ')\n",
        "\n",
        "        for word in words:\n",
        "            if word in skill_terms:\n",
        "                if word not in skills:\n",
        "                    skills.append(word)\n",
        "\n",
        "        word_pairs = []\n",
        "        for i in zip(words[:-1], words[1:]):\n",
        "            word_pairs.append(i[0] + ' ' + i[1])   #This is to find skills like 'data science' i.e skills containint two words.    return (skills)\n",
        "\n",
        "        for pair in word_pairs:\n",
        "            if pair in skill_terms:\n",
        "                if pair not in skills:\n",
        "                    skills.append(pair)\n",
        "\n",
        "    return (skills)"
      ],
      "metadata": {
        "id": "czoNQbETK4sZ"
      },
      "execution_count": 36,
      "outputs": []
    },
    {
      "cell_type": "code",
      "source": [
        "def get_experience(document):\n",
        "    pattern1 = re.compile(r'(jan(uary)?|feb(ruary)?|mar(ch)?|apr(il)?|may|jun(e)?|jul(y)?|aug(ust)?|sep(tember)?|oct(ober)?|nov(ember)?|dec(ember)?)(\\s|\\S)(\\d{2,4}).*(jan(uary)?|feb(ruary)?|mar(ch)?|apr(il)?|may|jun(e)?|jul(y)?|aug(ust)?|sep(tember)?|oct(ober)?|nov(ember)?|dec(ember)?)(\\s|\\S)(\\d{2,4})')\n",
        "    pattern2 = re.compile(r'(\\d{2}(.|..)\\d{4}).{1,4}(\\d{2}(.|..)\\d{4})')\n",
        "    pattern3 = re.compile(r'(\\d{2}(.|..)\\d{4}).{1,4}(present)')\n",
        "    pattern4 = re.compile(r'(jan(uary)?|feb(ruary)?|mar(ch)?|apr(il)?|may|jun(e)?|jul(y)?|aug(ust)?|sep(tember)?|oct(ober)?|nov(ember)?|dec(ember)?)(\\s|\\S)(\\d{2,4}).*(present)')\n",
        "    patterns = [pattern1, pattern2, pattern3, pattern4]\n",
        "    experience = []\n",
        "    for index, line in enumerate(document):\n",
        "        for pattern in patterns:\n",
        "            exp = pattern.findall(line)\n",
        "            if len(exp) > 0:\n",
        "                experience.append(document[index:index+4])\n",
        "\n",
        "    return (experience)"
      ],
      "metadata": {
        "id": "iDSSuCbZLBtR"
      },
      "execution_count": 37,
      "outputs": []
    },
    {
      "cell_type": "code",
      "source": [
        "file_name='/content/drive/MyDrive/DataForMasterProject/ActualDataFolder/RegExData/resume1.pdf'\n",
        "document = open_pdf_file(file_name)\n",
        "\n",
        "print(document)"
      ],
      "metadata": {
        "colab": {
          "base_uri": "https://localhost:8080/"
        },
        "id": "ATjpgTIyunXw",
        "outputId": "720a7cae-8921-4263-83b2-8e434ba11e0c"
      },
      "execution_count": 38,
      "outputs": [
        {
          "output_type": "stream",
          "name": "stdout",
          "text": [
            "['SURYAKIRAN KASTURI', 'Contact: +91-9448821250/+916362463338 Email: kirankss@gmail.com; Date of Birth: 28th Dec 1975', 'Product Development Leader ~ Full stack ~ Process Automation', 'Offering prolific experience in the domain of software designing, testing, implementation and support; seeking senior level', 'assignments across the industry, while bringing the following deliverables:', 'Strategic Planning ~ Performance Improvement ~ Full Product Lifecycle ~ Cloud ~ Analytics', '~ Diverse Technologies ~ Mobile Apps ~ Mentoring and coaching teams ~ CI/CD ~ TDD', '\\uf0fc  Presenter at eXtreme Programming Conference, India 2015 on TDD in embedded environment', '\\uf0fc  Member of the Core Agile team at IDC and organizer of the first Agile Day at Intuit', '\\uf0fc  Member of the innovation council and have organized innovation events at Allstate', 'Career Precis', '\\uf0fc  Product Development Leader with experience in leading teams while being an IC during design and development', '\\uf0fc  Expertise  with:  Marketing,  Software  Design,  Development  and  Maintenance  and  using  Agile  and  SDLC', 'methodologies', '\\uf0fc  Understanding the big picture and identifying the approach to make this a reality by utilizing the relevant tools', '\\uf0fc  Microsoft Stack (18+ years), C/C++ (16+ years), Web (10+ years), Cloud, SAAS and IOT (5+ years), .Net (10+ years), .Net', 'Core (3+ years), Video (9+ years), Microservices (3+ years), Docker (2+ years), Java (2.5 + years), People Management', '(7+ years) ), Data Analytics (2 + years), Mobile Apps (4+ years)', '\\uf0fc  Developed multiple products from scratch (8 products) and re-architected multiple modules across my entire career', '\\uf0fc  Technical proficiency in various software development languages, applications and databases and possess knowledge', 'of PHP, C# (WPF, ASP.Net), Objective-C, MFC, ATL COM/DCOM, Angular 5, Node JS, ReactNative, , Expo, Bootstrap', 'OS: Linux, Windows, iOS and Android, ServiceNow(4+ years), XML, JSON, REST, Fiddler and Postman, Wireshark', '\\uf0fc  Open Source incorporated: Apache Thrift, Boost, POCO, PJSIP, LibJingle, Cassandra, AWS SDK, Azure', '\\uf0fc  Utilizing SOLID principles and patterns to design the system and utilizing UT’s to help in maintaining code quality', '\\uf0fc  Software development tools: Visual Studio, ServiceNow, Jenkins, Clear case, Git, CVS, SVN, VSS and Perforce.', '\\uf0fc  Protocols: SIP, RTP, STUN, TURN, ICE, RTSP; Google Protocol Buffer, TCP/IP, HTTP', 'Highlights:', '\\uf0fc  Coaching and Mentoring:', 'o  Excellent  interpersonal  and  communication  skills  with  ability  to  handle  technically  complex', 'discussions with less experienced engineers and non-technical audience', 'o  Building  a  cohesive  team  where  developers  and  QE  work  together  to  ensure  the  quality  of', 'deliverables, accomplished using TDD and Agile. Code and Design reviews', 'o  Evaluating and training the teams on new technology trends and also ensuring involvement in', 'technology evaluation', 'o  Provided knowledge sharing sessions on Cloud, IOT, Agility and TDD', 'o  Excellent verbal and written communication skills. Experience in working with offshore teams', 'located mainly in USA, Canada and Japan (14+ years)', '\\uf0fc  Process:', 'o  Expertise across Waterfall (Starting from requirements Gathering, HLD, LLD, Development to', 'Release) and Agile methodologies (Scrum, XP and Kanban)', 'o  Project  Setup  &  Scoping,  Requirement  Analysis  &  Technical  Specifications,  Effort  &  Cost', 'Estimates,  Risk  Management,  Planning,  Monitoring  and  Tracking,  Reporting  &', 'Communication, Process Management & Compliance, Issue & Change Management, Resource', 'Optimization', 'o  Extensive  experience  in  interacting  with  clients/Product  Owner  to  gather  and  fine  tune', 'requirements and generating possible solutions.', 'o  Ensuring clear user Stories and estimation using methodologies like planning poker', 'Highlights Contd:', '\\uf0fc  Process', 'o  Expertise with different Agile tools like Rally, Agile Zen, Jira Agile (Green Hopper) and Trello', 'o  Adept  in  the  use  and  fitment  of  the  process  methodologies  :  Scrum,  Kanban,  XP,  TDD,  Six', 'Sigma and Lean', '\\uf0fc  Distributed Teams:', 'o  Excellent verbal and written communication skills. Experience in working with offshore teams', '(14+ years)', 'o  Experience with organizing Agile teams in geographically distributed locations using tools like', 'Etherpad, Slack, Confluence, etc', '\\uf0fc  Design and Performance:', 'o  Strong understanding of OO design and associated modeling tools(UML)', 'o  Experience  with  performance  analysis  tools,  including:  code  profilers  and  performance', 'analyzers,  understanding  the  big  picture  and  able  to  think  strategically  to  develop', 'comprehensive detailed specifications.', 'Involved in Risk Analysis, Architectural validation and risk mitigation action plans.', 'o', '\\uf0fc  Cryptography : Secure P2P client at Seastar labs and VPN integration at iPass', 'o  Asymmetric, signatures to ensure that the connection is secure', 'o  Supporting various protocols like PEAP, MSCHAP, Kerberos etc for VPN integration', 'o  Encryption algorithms : RSA and AES. Hashing algorithms : CRC, Checksum, SHA512, MD5', 'o  Secure development and using of tools like Coverity to do static code analysis', '\\uf0fc  Blockchain', 'o  Mining of ethereum, bitcoin, etc using the block chain framework for around 1.5 years now', 'o  Understanding of key concepts : hyperledger, blocks, mining network, the chain', 'o  Evaluating the multiple block chain frameworks and identifying specific features :', 'Insurance specific blockchain frameworks like : B3I and RiskBlock Alliance', '\\uf0a7', '\\uf0a7  Payments : Mastercard, Visa and JP Morgan have block chain frameworks', '\\uf0a7  Cyber security', '\\uf0fc  Cloud infrastructure:', 'o  Usage of cloud: AWS, Azure has helped in ensuring scalability of the application by handling', 'load balancing. The caveat being higher charges if we have an unexpected load', 'o  AWS Lambda, API Gateway, AWS S3, EC2 and Docker', 'o  Distributed database: This has helped in ensuring connectivity to customer even if a server has', 'gone down. Challenge  is  to ensure that  the data  is  kept  in sync  and  ensuring switch between', 'servers is as seamless as possible', 'Intuit: Received “Star of the Quarter” award- Q1 2014', 'Honeywell: Six Sigma Plus Green Belt certification', 'Awards Received', 'Celstream:  Received  Team  Excellence  Award  (for  entire  team)  at  for  providing  innovative  solutions  to  the  customer.', 'Process Compliance Award', 'Bachelor of Engineering (Electronics and Communication); Malnad College of Engineering, Hassan (MCE); 1999', 'Academia', 'ANNEXURE', 'Company Name    Aptean', 'Designation           R & D Manager (Equivalent to Sr. Engineering Manager)', 'Project Title', 'Duration', 'Team Size', 'Environment', 'Tools Used', 'Synopsis', 'ERP SAAS migration', 'Aug’19 – current', '32 (23 Dev including 2 architects and 1 associate architect + 8 QA + 1 Business Analyst)', 'Sencha (Ext JS), VB .Net, VFP, X#, C# (.Net Core)', 'Visual Studio, TFS (SCM), Jenkins(CI/CD), SQL Server, Azure', 'Leading the architecture team and setting up the Azure environment for the legacy on-prem to SAAS', 'migration of the ERP package. Beta release is Dec 2019 and microservices in 2020', 'Deliverables', 'Owning and managing a budget of $250k and responsible for a product generating $30M revenue.', 'Working  with  Product  Owners  and  Business  to  ensure  that  projects  are  tracked  using  Agile.', 'Ensuring  requirements  are  prioritized  and  demoed.  Stakeholders  include  executive  management.', 'Microservices POC done using docker to help in scaling the services faster depending on the load.', 'Initial  discussions  were  around  the  Azure  services  that  we  would  use:  Azure  Monitor,  SignalR,', 'Azure  Functions,  SSRS,  Azure  Blob  storage  and  use  of  existing  Load  balancing  functionality.', 'Business logic changes to support multi-tenancy and migration to HTTP calls from WCF TCP/IP.', 'Participated  in  the  design  of  the  Azure  infrastructure.  Currently  working  on  the  following:  1.', 'Performance  Testing  (Automating  the  testing  of  API  and  new  UI  screens)  .  This  would  help  in', 'understanding  the  current  load  of  the  system  so  we  can  identify  the  right  configuration  of  the', 'Azure servers and associated infrastructure to manage the cost. Also will ensure we can monitor the', 'quality  of  the  deployments  2.  Security  Testing:  To  identify  potential  issues  in  the  code,  network', 'infrastructure and this would be a part of the CI/CD pipeline 3. Identifying CI/CD specifications to', 'run the tests and also manage upgrades, etc. 4. Working with 3rd party to help in getting them ready', 'for the associated changes due to the SAAS migration. Regular activities like timesheet monitoring,', 'leave approvals, appraisals, goals, career planning, project reports, metrics, etc.', 'Company Name    AWS Truepower a UL Company', 'Designation           Software Development Manager (Equivalent to Engineering Manager)', 'Project Title', 'Duration', 'Team Size', 'Environment', 'Tools Used', 'Manage and deliver features for the BU', 'Aug’18 – May’19', '6', 'Angular 5, 6, PHP 7, Android, C++, C#, ReactNative, Node JS, Expo', 'Eclipse, Visual Studio Code, Android Studio, SVN (SCM), Bugzilla, Jenkins(CI/CD), MySQL, Private', 'Cloud', 'Small team of developers automating different parts of the organization with tight deadlines. Releases', 'done within 15 days to max 3 months and multiple projects in progress. IC', 'Synopsis', 'Deliverables', 'Owned and delivered new UI for windows desktop app using Telerik modules (C#). Implemented', 'features in Angular and PHP. Involved in design of application, database including identifying the', 'right  tech  stack  to  quickly  deliver  product.  Supported  the  team  by  doing  code  reviews  and', 'resolving  technical  issues.  Mentored  the  team  on  tech  stack  or  libraries  needed  to  speed  up', 'development. Ex: Use of Laravel framework to help in ensuring  the code is manageable. Also the', 'use of ReactNative to ensure that we can write code once and let it run across different devices like', 'Android and iOS. Requirements gathering, effort estimation, project planning, design and coding.', 'Resolving  cross  team  dependencies.  Interacting  with  marketing  to  identify  requirements  and', 'pricing  while  working  with  different  stakeholders  to  ensure  that  the  products  can  be  delivered', 'which would meet all the standards. Evaluating GDPR and other legal requirements to ensure we', 'are compliant. Working on process and technology improvements across multiple teams within the', 'BU. Involved in design and development including code reviews. Projects in the renewable energy', 'domain. Stakeholder management which could include internal and external stakeholders who are', 'customers for the initiatives that we are running within the organization. This work is being owned', 'and  delivered  by  the  Bangalore  team.  Identifying  areas  of  improvements  across  process  and', 'technology  to  ensure  faster delivery  and  improved quality  with  smaller  teams.  Working  with the', 'technical  stakeholders  to  identify  ways  to  deliver  products  quicker  which  include:  Microservices,', 'API  governance,  Blockchain,  automated  tools  like  Jenkins,  Augmented  Reality,  etc.  Regular', 'activities like timesheet monitoring, leave approvals, appraisals, goals, etc.', 'Company Name    Allstate Solutions Private Limited', 'Designation           Engineering Manager', 'Project Title', 'Duration', 'Team Size', 'Environment', 'Tools Used', 'Synopsis', 'Manage and deliver features for the BU', 'Sep’16 – Feb ‘18', '53', 'Objective-C, Android, Swift, Java web services, JavaScript and ASP .Net', 'Eclipse, Fiddler, GitHub, VSTS (SCM), Jira, Jenkins(CI/CD), Slack, Splunk, Hive, Cassandra', 'Three different teams are handling different projects: 1. Production support and feature development', 'in Java Spring  2. Sdk built separately for Android and iOS 3. Local project', 'Deliverables', 'Performance  evaluation  and  improvements  in  the  application  by  using  cloud  infrastructure.', 'Reviewing the architecture and code changes. Supporting the team by removing bottlenecks related', 'to  infrastructure,  requirements.  Part  of  the  innovation  council.  Helped  the  team migrate  to  Agile.', 'Helped  in  evaluating  the  current  status  of  the  scrum  process  followed.  Made  course  corrections', 'including switching the team to Kanban so that it can deliver better quality. Also worked with the', 'stakeholders  to  migrate  team  from  waterfall  to  Agile.  Evaluating  Java  Spring  to  implement  new', 'features.  Created  a  proposal  for  the  API  governance  strategy  for  the  Business  Unit  using', 'Microservices.  RPA  prototyping  done  using  BluePrism  and  UIPath.  Evaluating  Cassandra,  Kafka', 'and Hadoop. Also began work on altering the business logic of SDK so as to make it cross platform', 'which would speed up the development process and reduce maintenance time. Working with our', 'counterparts  to  help  the  team  get  development  work.  Ensured  delivery  of  in  house  project  and', 'made  the  team  get  Best  Project  2016  award.  Regular  activities  like  timesheet  monitoring,  leave', 'approvals, appraisals, goals, etc. Led a team of data analysts (Data Architect and Data Intern)', 'Company Name     Seastar Labs Pvt Ltd (Formerly Mamigo Inc)', 'Designation            Associate Architect', 'Project Title', 'Duration', 'Team Size', 'Environment', 'Tools Used', 'Synopsis', 'Design and development of the Eye4k and m4kr software and firmware.', 'Feb’15 – Apr’15, Feb’16 – July’ 16', '8', 'C++, C#, PHP,  AWS, XML, JSON and JavaScript on Windows and Linux', 'Eclipse, Visual Studio .NET 2010, 2012, Fiddler, WinDbg, SVN (SCM), Jira, Jenkins(CI/CD), TDD', 'The hardware device would have multiple 4K (3840x2160) cameras connected to it. The work involved', 'in  writing  both  the  firmware  and  PC  side  software  which  would  accept  live  video  streams  at  720p', '(1280x720) and downloading recording video at 4K(3840x2160)', 'Task allocation, tracking and providing weekly status reports. Risk analysis and risk mitigation plans', 'Designing the architecture for this product which was being developed from scratch using TDD', 'Using  OpenCV  and  GPU  for  video  streaming.  Video  processing.  Analyzing  and  implementing  the', 'AWS  SDK  with  PHP  to  upload  videos  for  remote  processing.  Micro  services  were  created  to  allow', 'third parties to integrate the apis. Developing the product by using TDD as a method to ensure code', 'quality is maintained.  Using delegates to support callbacks during device discovery (Bonjour) and for', 'events.  Evaluated  the  TPL  library  but  found  that  threading  was  more  appropriate  for  the  current', 'requirement.  Utilizing  the  ffmpeg  library  for  merging  and  saving  videos  to  disk  for  review.', 'Identifying and prototyping integration of bandwidth limiting software to simulate remote streaming.', 'IOT prototyping using AWS cloud where the camera video was controlled from a desktop via AWS', 'IOT service', 'Deliverables', 'Project Title', 'Duration', 'Development of a messaging iPhone app using Objective-C', 'May’15 – Jan’16', 'Team Size', 'Environment', 'Tools Used', 'Synopsis', 'Deliverables', 'Project Title', 'Duration', 'Team Size', 'Environment', 'Tools Used', 'Synopsis', 'Deliverables', '7', 'C, C++, Objective-C on Mac, RTP, SIP, ICE, STUN, TURN, libjingle, PJSIP, GPB and Android', 'XCode, Eclipse, SVN (SCM), Jira, Jenkins(CI/CD), TDD, OCLint, PMD', 'This app was having the following features: Secure chat, calling functionality, transfer of files across', 'different OS namely iPhone and Android.', 'Task allocation, tracking and providing weekly status reports. Risk analysis and risk mitigation plans', 'Daily standup meeting with client', 'The frameworks used for business logic were libjingle, PJSIP.', 'Google  Protocol  Buffer  was  used  to  ensure  that  the  communication  was  seamless  and  can  be', 'processed  at  both  ends.  Evaluating  and  identifying  the  framework  used  for  voice  calling', '(PJSIP/webrtc/Liblinphone). Utilized TDD to improve product quality for the existing native code.', 'Identifying the framework which can auto-generate Java wrappers for the native code namely Swig', 'Involved  in  ensuring that  the native code  was  used  in both  the  iPhone  and Android  versions  of  the', 'applications so as to improve maintainability', 'Design and development of the Nano SDK', 'Oct’14 – Feb’15', '7', 'C, C++,  Java on Windows and Linux, C# on Windows', 'Visual Studio 2008, Valgrind, SVN (SCM), Jira, Jenkins(CI/CD)', 'The  SDK  was  to  allow  third party  integrators  to  interact  and control  some  features  of the  firmware', 'which was a video camera. SDK had to be called from C, C++, Java and C# applications and sample', 'applications provided to show to use the same', 'Task allocation, tracking and providing weekly status reports. Risk analysis and risk mitigation plans', 'Daily standup meeting with client. Bug tracking, planning and releases. Designed and developed the', 'SDK  using  TDD  to  ensure  compatibility  with  C,  C++,  Java  and  C#  applications  and  across  both', 'Windows  and  Linux  OS.  Using  OpenCV  for  video  streaming.  Video  processing.  Implementing', 'algorithms for iris detection. Compared and selected the following platform independent frameworks', 'namely Apache thrift, Boost and POCO. Developed the critical functionality of camera detection using', 'Bonjour, storing data in local db and uploading to firmware, building the infrastructure for use by the', 'rest of the team Firmware development for the SDK functionality. Setting up and configuring Jenkins', 'for CI/CD on Windows and Linux', 'Company Name     Intuit India Product Dev Center', 'Designation            Lead Software Engineer', 'Project Title', 'Duration', 'Team Size', 'Environment', 'Tools Used', 'Synopsis', 'Deliverables', 'Payroll feature in QB', 'July’12 – Sep’14', '10', 'C++, MFC, COM, C# and WPF (XAML) based UI on Windows', 'Visual Studio.NET 2010, Fiddler, WinDbg, Perforce (SCM), Jira', 'The  payroll  feature  allows  the  owner  to  create  pay  checks,  pay  associated  taxes  and  file  tax  forms.', 'Additional features include sending data to cloud.', 'Looking  at  VOC  (Voice  of  Customer),  CP3  and  the  community  site  to  understand  customer  needs.', 'Using control and data templates in XAML to implement the UI. As an Agile coach, my contributions', 'include  facilitating  agile  adoption  by  mentoring  during  all  phases  including  but  not  limited  to:', 'Estimation, sprint planning, retrospective, etc. Generate effort estimate and identify solution based on', 'the  requirements.  Individual  Contributor  working  on  RTB  (Run  The  Business)  issues.  Own  the', 'compliance feature and work with the forms team to ensure that the tax forms get the correct data and', 'also to help in filing the associated forms. Designed the new payroll center module and provided the', 'LoE for the same. A level of complexity is that the code base contains 24 million lines of code. Around', 'half the time taken to fix a defect is used to search for the code and the rest split between manual unit', 'tests and reviews. Directly interact with PMs to get the requirements and provide inputs on technical', 'feasibility. Designed and implemented critical changes.', 'Project Title', 'Duration', 'Team Size', 'Environment', 'Tools Used', 'Synopsis', 'Deliverables', 'QB', 'Dec 2009 - Jul 2012', '10', 'C++, MFC, COM, C# and WPF (XAML) based UI on Windows', 'Visual Studio.NET 2010, Fiddler, WinDbg, Perforce (SCM), Jira', 'The application allows SBOs to handle book-keeping.', 'Estimation, designing  and  implementation of  features,  bug  fixing,  test plan review  and  unit  testing.', 'Individual contributor working on reports and UI refresh. Prototyped a feature within a week and the', 'feature was greenlit. As of now the feature is generating $10k. For 1 year I lead a team of 5 contractors', 'working  on  IPD.  Our  work  generated  revenues  of  $500k.  Directly  interact  with  PMs  to  get  the', 'requirements  and  provide  inputs  on  technical  feasibility.  Also  design  and  implement  the  critical', 'changes. Leading the developers by providing guidance and resolving dependencies with other teams', 'Company Name     iPass India Pvt Ltd', 'Designation            Technical Lead', 'Project Title', 'Duration', 'Team Size', 'Environment', 'Tools Used', 'Synopsis', 'Deliverables', 'iPC', 'Aug 2008 - Nov2009', '10 consultants (Till Mar 2009), 5 (Till Nov 2009)', 'C++, MFC, COM on Windows', 'Visual Studio.NET 2005, Wireshark, WinDbg, Perforce (SCM), Bugzilla', 'Enhancements and bug fixes in the iPass Connect application. The application allows users to connect', 'to their office network using methods like Dial, Wifi, Mobile Broadband.', 'Volunteered  and  took  up  projects  involving  creation  of  installer  packages.  Led  a  team  of  10', 'contractors  located  in  Hyderabad,  ensuring  that  the  bug  fixes  and  features  were  implemented', 'correctly. Analyzing the PRDs and identifying the solution and LoE (level of effort) for the same', 'Company Name   Wipro Technologies', 'Designation           Project Manager', 'Project Title', 'Duration', 'Team Size', 'Environment', 'Tools Used', 'Synopsis', 'Deliverables', 'Rose and Neo', 'Apr2007 - Aug2008', '8 comprising of 4 (Firmware) + 4 (Application)', 'C++, MFC on Windows', 'Rational Rose, SQL Server, Socket, Visual Studio.NET 2003/2005, MPP', 'The Rose sub-project involved localizing the existing 6 Windows based video application for FIGS', 'Lead  a  team  of 7  resources  and handling metrics calculations  for schedule,  effort deviation, review-', 'rework efforts, etc. Generate effort estimate and identify solution based on the requirements. Part of', 'the work involved ensuring that we received additional funding from the client for the current project', 'and also the next project. The challenges in this project included:', '\\uf0fc  Understanding and meeting the expectations of Japanese customer while ensuring that the quality', 'and schedule were met', '\\uf0fc  Understanding  the  features  of  E-Cube  (internal  task  tracking  tool)  and  practices  followed  while', 'ensuring that the work gets done on time', 'Company Name    Honeywell Technology Solutions Lab', 'Designation           Principal Engineer', 'Project Title', 'Duration', 'Team Size', 'Environment', 'Tools Used         DevPartner, Rational Clearcase, Rational Rose, SQL Server, socket, Visual Studio.NET 2002', 'Synopsis', 'Belfast', 'Nov2005 - Mar2007', '8 comprising of 5 (DSP) + 3 (Application)', 'C++, COM, C# on Windows', 'Provide  support  for  legacy  firmware  which  supported  digital  cameras  and  also  support  the  new', 'firmware which would support analog cameras.', 'Deliverables', 'Generate  effort  estimate  and  identify  solution  based  on  the  requirements.  Module  lead  for  the', 'software team:', '\\uf0fc  Supporting  interaction  between  C#  (UI),  Business  logic  (COM  as  the  main  layer  and  support', 'libraries in MFC) and communication layer (MFC).', '\\uf0fc  Synchronizing mechanisms like events and critical sections have been used to maintain the states', 'of the connected streams', '\\uf0fc  Used Intel IPP libraries to decompress the images received from the firmware', 'Project Title', 'Duration', 'Team Size', 'Environment', 'Tools Used         DevPartner, Rational Clearcase, socket, Visual Studio.NET 2002', 'Synopsis', 'Whistler', 'Jun2005 - Nov2005', '4 comprising of 3 (DSP) + 1 (Application)', 'C++, COM on Windows', 'Deliverables', 'Receive  MPEG4  compressed  images  being  streamed  on  the  network  using  the  RTP/RTSP  protocols', 'and de-compress the MPEG4 images to bitmaps.', 'MPEG4  was  chosen  as  it  provided  the  best  performance.  The  load  on  the  network  was  reduced  as', 'most of the frames would be reference frames. The challenges included:', 'Understanding the RTP/RTSP protocols and MPEG 4.', '\\uf0fc  Handling  the  socket  issues  where  the  DSP  would  not  receive  the  requests  of  the  application,', 'latency issues, etc.', '\\uf0fc  Evaluated  the  SLP  and  Bonjour  device  discovery  protocols.  A  QFD  was  done  to  decide  on  the', 'protocol that would suit our requirements.', 'AVPS', 'Feb2004 - Jun2005', '9 comprising of 5 (Research) + 4 (development)', 'C++, MFC, COM on Windows', 'Project Title', 'Duration', 'Team Size', 'Environment', 'Tools Used         DevPartner, VSS, SQL Server, Visual Studio.NET 2002', 'Synopsis', 'Optimize the algorithm for classifying moving objects.', 'Deliverables', 'The challenge  here  was  to  understand  the  algorithms  being  implemented  by  the  research  team  and', 'write code which would provide the best performance while keeping the false positives to a minimu.', 'The  architecture  was  designed  so  that  we  would  have  a  component called  the  AVPS  Manager  who', 'would  be  the  main  interface  between  the  modules  and  the  client  interacting  the  modules.  We  used', 'DevPartner to figure out performance bottlenecks, detect errors like memory issues & code coverage', 'Company Name    Celstream Technologies Pvt Ltd', 'Designation            Software Engineer', 'Project Title', 'Duration', 'Team Size', 'Environment', 'Tools Used', 'Synopsis', 'Deliverables', 'Mango', 'Dec2002 - Feb2004', '24 comprising of 9 (offsite) + 15 (onsite)', 'C++, COM on Windows', 'Rational Clearcase, Rational Rose and Visual Studio 6', 'Create a cleaner and COM based version of the support for the Odetics protocol.', 'Rational Rose was used, to create the System Sequence diagrams for the functionality to be handled.', 'This was a multithreaded application and we are using synchronizing methods like Critical Sections,', 'Events.', 'Project Title', 'Duration', 'Team Size', 'Environment', 'Tools Used', 'Synopsis', 'Protocol Objects', 'Oct2001 - Dec2002', '3', 'MFC on Windows', 'Rational Clearcase, Rational Rose and Visual Studio 6', 'We upgraded the support for the Odetics protocol.', 'Deliverables', 'The existing code was supporting multiple protocols, which made it slow and buggy. The code had', 'also been modified by a lot of users. Modified the existing Odetics commands to provide greater ease', 'to  the  users of  our  application,  support  has been  added  for  Fiber channel commands  in  the  Odetics', 'Protocol (ADSP protocol)', 'Project Title', 'Duration', 'Team Size', 'Environment', 'Tools Used', 'Synopsis', 'Deliverables', 'Maintenance of products', 'Apr2001 - Oct2001', '12 comprising of 2 (offsite) & 10 (onsite)', 'MFC on Windows', 'Rational Clearcase, Rational Rose and Visual Studio 6', 'Bug fixing of the products', 'One product  is  a device  used to record and play  video clips. The  other product  is  used to  keep  the', 'sync between two machines', 'Company Name    Trigent Software Pvt Ltd', 'Designation            Software Engineer', 'Project Title', 'Duration', 'Team Size', 'Environment', 'Tools Used', 'Synopsis', 'Deliverables', 'Alpha (Internal Project)', 'Jan2001 - Apr2001', '15', 'JSP and Java beans,', 'Tomcat server(v 3.2.1), Java', 'Automate the working of Allocation, Travel and Visa cells', 'Stored procedures  were  used  to make  the queries,  so  that  we  can reduce  the  overhead  of  executing', 'each sql query from the bean and awaiting the return value.', 'Project Title', 'Duration', 'Team Size', 'Environment', 'Tools Used', 'Synopsis', 'Deliverables', 'ASR (Automatic Speech Recognition)', 'Nov2000 - Dec2000', '3', 'MFC on Windows', 'Visual Studio 6', 'Allow the users to evaluate their manner of pronunciation', 'Data transfer between the browser and the VC++ code was done using JavaScript and a Java class, as', 'JavaScript cant access the users system.', 'Company Name     Foresee Information Systems Pvt Ltd', 'Designation            Software Engineer', 'Project Title', 'Duration', 'Team Size', 'Environment', 'Tools Used', 'Synopsis', 'Deliverables', 'Developing samples to be placed on a website similar to CodeGuru', 'Oct 1999 – Sep 2000', '14', 'Win32 on Windows', 'VC++ 5.0', 'Programmatically display the response of each function', 'Pipes, cryptography, file installation, file decompression list View, event logging and synchronization', 'functions including generation of keys, etc']\n"
          ]
        }
      ]
    },
    {
      "cell_type": "code",
      "source": [
        "name_list =[]\n",
        "email_ids = []\n",
        "phone_nos = []\n",
        "education_1 = []\n",
        "education_2 = []\n",
        "skills_1 = []\n",
        "skills_2 = []\n",
        "experience_1 = []\n",
        "experience_2 = []\n",
        "\n",
        "for file_name in file_names:\n",
        "    if file_name.endswith('.pdf'):\n",
        "        document = open_pdf_file(file_name)\n",
        "    elif file_name.endswith('.docx'):\n",
        "        document = open_docx_file(file_name)\n",
        "\n",
        "    my_string = ' '.join(document)\n",
        "    name = extract_name(my_string)\n",
        "    print(name)\n",
        "    if len(name) > 0:\n",
        "        name_list.append(name)\n",
        "    else:\n",
        "        name_list.append('')\n",
        "\n",
        "\n",
        "    email = get_email(document)\n",
        "    phone_no = get_phone_no(document)\n",
        "    document = preprocess_document(document)\n",
        "    #print ('\\n\\n')\n",
        "    #print (file_name)\n",
        "    #print ('Email is {} phone number is {}'.format(email, phone_no))\n",
        "    if len(email) > 0:\n",
        "        email_ids.append(email[0])\n",
        "    else:\n",
        "        email_ids.append('')\n",
        "\n",
        "    if len(phone_no) > 0:\n",
        "        phone_nos.append(phone_no[0])\n",
        "    else:\n",
        "        phone_nos.append('')\n",
        "\n",
        "    education = get_education(document)\n",
        "    #print ('Education ', get_education(document))\n",
        "    if len(education) > 1:\n",
        "        education_1.append(education[0])\n",
        "        education_2.append(education[1])\n",
        "    elif len(education) == 1:\n",
        "        education_1.append(education[0])\n",
        "        education_2.append('')\n",
        "    elif len(education) == 0:\n",
        "        education_1.append('')\n",
        "        education_2.append('')\n",
        "\n",
        "    skills = get_skills(document)\n",
        "    #print ('Skills ', skills)\n",
        "\n",
        "    if len(skills) > 1:\n",
        "        skills_1.append(skills[0])\n",
        "        skills_2.append(skills[1])\n",
        "    elif len(skills) == 1:\n",
        "        skills_1.append(skills[0])\n",
        "        skills_2.append('')\n",
        "    elif len(skills) == 0:\n",
        "        skills_1.append('')\n",
        "        skills_2.append('')\n",
        "\n",
        "    experience = get_experience(document)\n",
        "    #print ('Experience ', get_experience(document))\n",
        "    if len(experience) > 1:\n",
        "        experience_1.append(experience[0])\n",
        "        experience_2.append(experience[1])\n",
        "    elif len(experience) == 1:\n",
        "        experience_1.append(experience[0])\n",
        "        experience_2.append('')\n",
        "    elif len(experience) == 0:\n",
        "        experience_1.append('')\n",
        "        experience_2.append('')"
      ],
      "metadata": {
        "colab": {
          "base_uri": "https://localhost:8080/"
        },
        "id": "mDoVd2nFWl3p",
        "outputId": "7b5c456f-d259-4d99-d417-e2ca22dcb737"
      },
      "execution_count": 47,
      "outputs": [
        {
          "output_type": "stream",
          "name": "stdout",
          "text": [
            "SURYAKIRAN KASTURI\n",
            "MONICA MEYER\n",
            "McAllister St\n",
            "Sébastien Genty\n",
            "Brendan Herger\n",
            "John Smith\n",
            "john smith\n"
          ]
        }
      ]
    },
    {
      "cell_type": "code",
      "source": [
        "import pandas as pd\n",
        "df = pd.DataFrame({'Name':name_list,'email id':email_ids, 'phone nos':phone_nos, 'education 1':education_1, 'education 2':education_2, 'skills 1':skills_1,\n",
        "              'skills 2':skills_2, 'experience 1':experience_1, 'experiece 2':experience_2})"
      ],
      "metadata": {
        "id": "x-jaUjcINDzr"
      },
      "execution_count": 48,
      "outputs": []
    },
    {
      "cell_type": "code",
      "source": [
        "!pip install openpyxl"
      ],
      "metadata": {
        "colab": {
          "base_uri": "https://localhost:8080/"
        },
        "id": "06fwcD9ae7aY",
        "outputId": "902e9a07-d961-4bab-c05f-2551666b2b68"
      },
      "execution_count": 49,
      "outputs": [
        {
          "output_type": "stream",
          "name": "stdout",
          "text": [
            "Requirement already satisfied: openpyxl in /usr/local/lib/python3.10/dist-packages (3.0.10)\n",
            "Requirement already satisfied: et-xmlfile in /usr/local/lib/python3.10/dist-packages (from openpyxl) (1.1.0)\n"
          ]
        }
      ]
    },
    {
      "cell_type": "code",
      "source": [
        "PATH_SAVE='/content/drive/MyDrive/DataForMasterProject/ActualDataFolder/Resume_extracted_data.xlsx'\n",
        "#df.to_excel(PATH_SAVE)"
      ],
      "metadata": {
        "id": "Xq3mi3lcNMwW"
      },
      "execution_count": 50,
      "outputs": []
    },
    {
      "cell_type": "code",
      "source": [
        "try:\n",
        "    df.to_excel(PATH_SAVE)\n",
        "    print(\"File saved successfully.\")\n",
        "except Exception as e:\n",
        "    print(\"Error occurred while saving the file:\", str(e))"
      ],
      "metadata": {
        "colab": {
          "base_uri": "https://localhost:8080/"
        },
        "id": "9DpFxcK_frHe",
        "outputId": "7a165298-7ff0-469c-af72-49164c1a6e7f"
      },
      "execution_count": 51,
      "outputs": [
        {
          "output_type": "stream",
          "name": "stdout",
          "text": [
            "File saved successfully.\n"
          ]
        }
      ]
    }
  ],
  "metadata": {
    "colab": {
      "provenance": [],
      "gpuType": "T4",
      "mount_file_id": "1cQroeq4Zy4kAfdvkzFaUbErhaeJGRVou",
      "authorship_tag": "ABX9TyPUmUrdAALPiUY4dAdNarlD"
    },
    "kernelspec": {
      "display_name": "Python 3",
      "name": "python3"
    },
    "language_info": {
      "name": "python"
    },
    "accelerator": "GPU"
  },
  "nbformat": 4,
  "nbformat_minor": 0
}