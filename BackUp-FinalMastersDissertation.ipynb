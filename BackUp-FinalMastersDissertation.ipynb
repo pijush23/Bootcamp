{
  "cells": [
    {
      "cell_type": "markdown",
      "source": [
        "### Resume Parser by Regular Expression"
      ],
      "metadata": {
        "id": "zs4pkWdlxzOd"
      }
    },
    {
      "cell_type": "code",
      "source": [
        "import regex as re"
      ],
      "metadata": {
        "id": "KKC5r7Me5hqV"
      },
      "execution_count": 23,
      "outputs": []
    },
    {
      "cell_type": "code",
      "source": [
        "!pip install pdfminer.six"
      ],
      "metadata": {
        "id": "EOneretC6NFk"
      },
      "execution_count": null,
      "outputs": []
    },
    {
      "cell_type": "code",
      "source": [
        "!pip install docx2txt"
      ],
      "metadata": {
        "id": "T-R3zjF-6m1N"
      },
      "execution_count": null,
      "outputs": []
    },
    {
      "cell_type": "code",
      "source": [
        "!pip install nlp"
      ],
      "metadata": {
        "id": "a8-Hn96DtBdK"
      },
      "execution_count": null,
      "outputs": []
    },
    {
      "cell_type": "markdown",
      "source": [
        "**Extracting Text from PDF**"
      ],
      "metadata": {
        "id": "yOCm4beH54AT"
      }
    },
    {
      "cell_type": "code",
      "source": [
        "import pdfminer\n",
        "from io import StringIO\n",
        "from pdfminer.pdfinterp import PDFResourceManager, PDFPageInterpreter\n",
        "from pdfminer.converter import TextConverter\n",
        "from pdfminer.layout import LAParams\n",
        "from pdfminer.pdfpage import PDFPage\n",
        "import docx2txt\n",
        "import os"
      ],
      "metadata": {
        "id": "fWRNVmhG57Vy"
      },
      "execution_count": 28,
      "outputs": []
    },
    {
      "cell_type": "code",
      "source": [
        "rootdir = '/content/drive/MyDrive/DataForMasterProject/ActualDataFolder/RegExData'\n",
        "files = os.listdir(rootdir)\n",
        "file_names = []\n",
        "for file in os.listdir(rootdir):\n",
        "    file_names.append(os.path.join(rootdir, file))\n",
        "file_names"
      ],
      "metadata": {
        "id": "w6spDi5MN5z0"
      },
      "execution_count": null,
      "outputs": []
    },
    {
      "cell_type": "code",
      "source": [
        "def open_pdf_file(file_name):\n",
        "    output = StringIO()\n",
        "    manager = PDFResourceManager()\n",
        "    converter = TextConverter(manager, output, laparams=LAParams())\n",
        "    interpreter = PDFPageInterpreter(manager, converter)\n",
        "\n",
        "    pagenums = set()\n",
        "    infile = open(file_name, 'rb')\n",
        "    for page in PDFPage.get_pages(infile, pagenums):\n",
        "        interpreter.process_page(page)\n",
        "    infile.close()\n",
        "    converter.close()\n",
        "    text = output.getvalue()\n",
        "    output.close()\n",
        "\n",
        "    result = []\n",
        "\n",
        "    for line in text.split('\\n'):\n",
        "        line2 = line.strip()\n",
        "        if line2 != '':\n",
        "            result.append(line2)\n",
        "    return (result)"
      ],
      "metadata": {
        "id": "vHp8p7V-7piI"
      },
      "execution_count": 10,
      "outputs": []
    },
    {
      "cell_type": "code",
      "source": [
        "def open_docx_file(file_name):\n",
        "    temp = docx2txt.process(file_names[0])\n",
        "    text = [line.replace('\\t', ' ') for line in temp.split('\\n') if line]\n",
        "    text = [t for t in text if len(t) > 1]\n",
        "    return (text)"
      ],
      "metadata": {
        "id": "HTgiksus7wky"
      },
      "execution_count": 30,
      "outputs": []
    },
    {
      "cell_type": "code",
      "source": [
        "def remove_punctuations(line):\n",
        "    return re.sub(r'(\\.|\\,)', '', line)\n",
        "\n",
        "def preprocess_document(document):\n",
        "    for index, line in enumerate(document):\n",
        "        line = line.lower()\n",
        "        line = remove_punctuations(line)\n",
        "\n",
        "        line = line.split(' ')\n",
        "        while '' in line:\n",
        "            line.remove('')\n",
        "\n",
        "        while ' '  in line:\n",
        "            line.remove(' ')\n",
        "\n",
        "\n",
        "        document[index] = ' '.join(line)\n",
        "    return (document)"
      ],
      "metadata": {
        "id": "oKIGBX0N71KU"
      },
      "execution_count": 31,
      "outputs": []
    },
    {
      "cell_type": "code",
      "source": [
        "#Name\n",
        "import spacy\n",
        "from spacy.matcher import Matcher\n",
        "\n",
        "# load pre-trained model\n",
        "nlp = spacy.load('en_core_web_sm')\n",
        "\n",
        "# initialize matcher with a vocab\n",
        "matcher = Matcher(nlp.vocab)\n",
        "\n",
        "def extract_name(resume_text):\n",
        "    nlp_text = nlp(resume_text)\n",
        "\n",
        "    # First name and Last name are always Proper Nouns\n",
        "    pattern = [{'POS': 'PROPN'}, {'POS': 'PROPN'}]\n",
        "\n",
        "    matcher.add('NAME', [pattern], on_match = None)\n",
        "\n",
        "    matches = matcher(nlp_text)\n",
        "\n",
        "    for match_id, start, end in matches:\n",
        "        span = nlp_text[start:end]\n",
        "        return span.text\n",
        "\n",
        "\n",
        "#name = extract_name(text)\n",
        "#print(name)\n",
        "#extracted_text[\"Name\"] = name"
      ],
      "metadata": {
        "id": "MiduBC-Gt4us"
      },
      "execution_count": 32,
      "outputs": []
    },
    {
      "cell_type": "code",
      "source": [
        "def get_email(document):\n",
        "    #Further optimization to be done.\n",
        "    emails = []\n",
        "    pattern = re.compile(r'\\w+@[a-zA-Z_]+?\\.[a-zA-Z]{2,3}')\n",
        "    for line in document:\n",
        "        matches = pattern.findall(line)\n",
        "        for mat in matches:\n",
        "            if len(mat) > 0:\n",
        "                emails.append(mat)\n",
        "    #print (emails)\n",
        "    return (emails)"
      ],
      "metadata": {
        "id": "4F-AbiFXJzoL"
      },
      "execution_count": 33,
      "outputs": []
    },
    {
      "cell_type": "code",
      "source": [
        "def get_phone_no(document):\n",
        "    #This function has to be further modified better and accurate results.\n",
        "    #Possible phone number formats - Including +91 or just with the numbers.\n",
        "\n",
        "    mob_num_regex = r'''(\\d{3}[-\\.\\s]??\\d{3}[-\\.\\s]??\\d{4}|\\(\\d{3}\\)\n",
        "                        [-\\.\\s]*\\d{3}[-\\.\\s]??\\d{4}|\\d{5}[-\\.\\s]??\\d{4})'''\n",
        "    pattern = re.compile(mob_num_regex)\n",
        "    matches = []\n",
        "    for line in document:\n",
        "        match = pattern.findall(line)\n",
        "        for mat in match:\n",
        "            if len(mat) > 9:\n",
        "                matches.append(mat)\n",
        "\n",
        "    return (matches)"
      ],
      "metadata": {
        "id": "tVIxq1zQKcfL"
      },
      "execution_count": 34,
      "outputs": []
    },
    {
      "cell_type": "code",
      "source": [
        "EDU_PATH='/content/drive/MyDrive/DataForMasterProject/ActualDataFolder/education.txt'\n",
        "def get_education(document):\n",
        "    education_terms = []\n",
        "    with open(EDU_PATH, 'r') as file:\n",
        "        education_terms = file.readlines()\n",
        "\n",
        "    education_terms = [term.strip('\\n') for term in education_terms]\n",
        "    education = []\n",
        "    for line in document:\n",
        "        for word in line.split(' '):\n",
        "            if len(word) > 2 and word in education_terms:\n",
        "                if line not in education:\n",
        "                    education.append(line)\n",
        "    #print (education)\n",
        "    return (education)"
      ],
      "metadata": {
        "id": "iEprnFHqKjlb"
      },
      "execution_count": 35,
      "outputs": []
    },
    {
      "cell_type": "code",
      "source": [
        "SKILL_PATH='/content/drive/MyDrive/DataForMasterProject/ActualDataFolder/skills.txt'\n",
        "def get_skills(document):\n",
        "    skill_terms = []\n",
        "    with open(SKILL_PATH, 'r') as file:\n",
        "        skill_terms = file.readlines()\n",
        "\n",
        "    skill_terms = [term.strip('\\n') for term in skill_terms]\n",
        "    skills = []\n",
        "\n",
        "    for line in document:\n",
        "        words = line.split(' ')\n",
        "\n",
        "        for word in words:\n",
        "            if word in skill_terms:\n",
        "                if word not in skills:\n",
        "                    skills.append(word)\n",
        "\n",
        "        word_pairs = []\n",
        "        for i in zip(words[:-1], words[1:]):\n",
        "            word_pairs.append(i[0] + ' ' + i[1])   #This is to find skills like 'data science' i.e skills containint two words.    return (skills)\n",
        "\n",
        "        for pair in word_pairs:\n",
        "            if pair in skill_terms:\n",
        "                if pair not in skills:\n",
        "                    skills.append(pair)\n",
        "\n",
        "    return (skills)"
      ],
      "metadata": {
        "id": "czoNQbETK4sZ"
      },
      "execution_count": 36,
      "outputs": []
    },
    {
      "cell_type": "code",
      "source": [
        "def get_experience(document):\n",
        "    pattern1 = re.compile(r'(jan(uary)?|feb(ruary)?|mar(ch)?|apr(il)?|may|jun(e)?|jul(y)?|aug(ust)?|sep(tember)?|oct(ober)?|nov(ember)?|dec(ember)?)(\\s|\\S)(\\d{2,4}).*(jan(uary)?|feb(ruary)?|mar(ch)?|apr(il)?|may|jun(e)?|jul(y)?|aug(ust)?|sep(tember)?|oct(ober)?|nov(ember)?|dec(ember)?)(\\s|\\S)(\\d{2,4})')\n",
        "    pattern2 = re.compile(r'(\\d{2}(.|..)\\d{4}).{1,4}(\\d{2}(.|..)\\d{4})')\n",
        "    pattern3 = re.compile(r'(\\d{2}(.|..)\\d{4}).{1,4}(present)')\n",
        "    pattern4 = re.compile(r'(jan(uary)?|feb(ruary)?|mar(ch)?|apr(il)?|may|jun(e)?|jul(y)?|aug(ust)?|sep(tember)?|oct(ober)?|nov(ember)?|dec(ember)?)(\\s|\\S)(\\d{2,4}).*(present)')\n",
        "    patterns = [pattern1, pattern2, pattern3, pattern4]\n",
        "    experience = []\n",
        "    for index, line in enumerate(document):\n",
        "        for pattern in patterns:\n",
        "            exp = pattern.findall(line)\n",
        "            if len(exp) > 0:\n",
        "                experience.append(document[index:index+4])\n",
        "\n",
        "    return (experience)"
      ],
      "metadata": {
        "id": "iDSSuCbZLBtR"
      },
      "execution_count": 37,
      "outputs": []
    },
    {
      "cell_type": "code",
      "source": [
        "file_name='/content/drive/MyDrive/DataForMasterProject/ActualDataFolder/RegExData/resume1.pdf'\n",
        "document = open_pdf_file(file_name)\n",
        "\n",
        "print(document)"
      ],
      "metadata": {
        "colab": {
          "base_uri": "https://localhost:8080/"
        },
        "id": "ATjpgTIyunXw",
        "outputId": "720a7cae-8921-4263-83b2-8e434ba11e0c"
      },
      "execution_count": 38,
      "outputs": [
        {
          "output_type": "stream",
          "name": "stdout",
          "text": [
            "['SURYAKIRAN KASTURI', 'Contact: +91-9448821250/+916362463338 Email: kirankss@gmail.com; Date of Birth: 28th Dec 1975', 'Product Development Leader ~ Full stack ~ Process Automation', 'Offering prolific experience in the domain of software designing, testing, implementation and support; seeking senior level', 'assignments across the industry, while bringing the following deliverables:', 'Strategic Planning ~ Performance Improvement ~ Full Product Lifecycle ~ Cloud ~ Analytics', '~ Diverse Technologies ~ Mobile Apps ~ Mentoring and coaching teams ~ CI/CD ~ TDD', '\\uf0fc  Presenter at eXtreme Programming Conference, India 2015 on TDD in embedded environment', '\\uf0fc  Member of the Core Agile team at IDC and organizer of the first Agile Day at Intuit', '\\uf0fc  Member of the innovation council and have organized innovation events at Allstate', 'Career Precis', '\\uf0fc  Product Development Leader with experience in leading teams while being an IC during design and development', '\\uf0fc  Expertise  with:  Marketing,  Software  Design,  Development  and  Maintenance  and  using  Agile  and  SDLC', 'methodologies', '\\uf0fc  Understanding the big picture and identifying the approach to make this a reality by utilizing the relevant tools', '\\uf0fc  Microsoft Stack (18+ years), C/C++ (16+ years), Web (10+ years), Cloud, SAAS and IOT (5+ years), .Net (10+ years), .Net', 'Core (3+ years), Video (9+ years), Microservices (3+ years), Docker (2+ years), Java (2.5 + years), People Management', '(7+ years) ), Data Analytics (2 + years), Mobile Apps (4+ years)', '\\uf0fc  Developed multiple products from scratch (8 products) and re-architected multiple modules across my entire career', '\\uf0fc  Technical proficiency in various software development languages, applications and databases and possess knowledge', 'of PHP, C# (WPF, ASP.Net), Objective-C, MFC, ATL COM/DCOM, Angular 5, Node JS, ReactNative, , Expo, Bootstrap', 'OS: Linux, Windows, iOS and Android, ServiceNow(4+ years), XML, JSON, REST, Fiddler and Postman, Wireshark', '\\uf0fc  Open Source incorporated: Apache Thrift, Boost, POCO, PJSIP, LibJingle, Cassandra, AWS SDK, Azure', '\\uf0fc  Utilizing SOLID principles and patterns to design the system and utilizing UT’s to help in maintaining code quality', '\\uf0fc  Software development tools: Visual Studio, ServiceNow, Jenkins, Clear case, Git, CVS, SVN, VSS and Perforce.', '\\uf0fc  Protocols: SIP, RTP, STUN, TURN, ICE, RTSP; Google Protocol Buffer, TCP/IP, HTTP', 'Highlights:', '\\uf0fc  Coaching and Mentoring:', 'o  Excellent  interpersonal  and  communication  skills  with  ability  to  handle  technically  complex', 'discussions with less experienced engineers and non-technical audience', 'o  Building  a  cohesive  team  where  developers  and  QE  work  together  to  ensure  the  quality  of', 'deliverables, accomplished using TDD and Agile. Code and Design reviews', 'o  Evaluating and training the teams on new technology trends and also ensuring involvement in', 'technology evaluation', 'o  Provided knowledge sharing sessions on Cloud, IOT, Agility and TDD', 'o  Excellent verbal and written communication skills. Experience in working with offshore teams', 'located mainly in USA, Canada and Japan (14+ years)', '\\uf0fc  Process:', 'o  Expertise across Waterfall (Starting from requirements Gathering, HLD, LLD, Development to', 'Release) and Agile methodologies (Scrum, XP and Kanban)', 'o  Project  Setup  &  Scoping,  Requirement  Analysis  &  Technical  Specifications,  Effort  &  Cost', 'Estimates,  Risk  Management,  Planning,  Monitoring  and  Tracking,  Reporting  &', 'Communication, Process Management & Compliance, Issue & Change Management, Resource', 'Optimization', 'o  Extensive  experience  in  interacting  with  clients/Product  Owner  to  gather  and  fine  tune', 'requirements and generating possible solutions.', 'o  Ensuring clear user Stories and estimation using methodologies like planning poker', 'Highlights Contd:', '\\uf0fc  Process', 'o  Expertise with different Agile tools like Rally, Agile Zen, Jira Agile (Green Hopper) and Trello', 'o  Adept  in  the  use  and  fitment  of  the  process  methodologies  :  Scrum,  Kanban,  XP,  TDD,  Six', 'Sigma and Lean', '\\uf0fc  Distributed Teams:', 'o  Excellent verbal and written communication skills. Experience in working with offshore teams', '(14+ years)', 'o  Experience with organizing Agile teams in geographically distributed locations using tools like', 'Etherpad, Slack, Confluence, etc', '\\uf0fc  Design and Performance:', 'o  Strong understanding of OO design and associated modeling tools(UML)', 'o  Experience  with  performance  analysis  tools,  including:  code  profilers  and  performance', 'analyzers,  understanding  the  big  picture  and  able  to  think  strategically  to  develop', 'comprehensive detailed specifications.', 'Involved in Risk Analysis, Architectural validation and risk mitigation action plans.', 'o', '\\uf0fc  Cryptography : Secure P2P client at Seastar labs and VPN integration at iPass', 'o  Asymmetric, signatures to ensure that the connection is secure', 'o  Supporting various protocols like PEAP, MSCHAP, Kerberos etc for VPN integration', 'o  Encryption algorithms : RSA and AES. Hashing algorithms : CRC, Checksum, SHA512, MD5', 'o  Secure development and using of tools like Coverity to do static code analysis', '\\uf0fc  Blockchain', 'o  Mining of ethereum, bitcoin, etc using the block chain framework for around 1.5 years now', 'o  Understanding of key concepts : hyperledger, blocks, mining network, the chain', 'o  Evaluating the multiple block chain frameworks and identifying specific features :', 'Insurance specific blockchain frameworks like : B3I and RiskBlock Alliance', '\\uf0a7', '\\uf0a7  Payments : Mastercard, Visa and JP Morgan have block chain frameworks', '\\uf0a7  Cyber security', '\\uf0fc  Cloud infrastructure:', 'o  Usage of cloud: AWS, Azure has helped in ensuring scalability of the application by handling', 'load balancing. The caveat being higher charges if we have an unexpected load', 'o  AWS Lambda, API Gateway, AWS S3, EC2 and Docker', 'o  Distributed database: This has helped in ensuring connectivity to customer even if a server has', 'gone down. Challenge  is  to ensure that  the data  is  kept  in sync  and  ensuring switch between', 'servers is as seamless as possible', 'Intuit: Received “Star of the Quarter” award- Q1 2014', 'Honeywell: Six Sigma Plus Green Belt certification', 'Awards Received', 'Celstream:  Received  Team  Excellence  Award  (for  entire  team)  at  for  providing  innovative  solutions  to  the  customer.', 'Process Compliance Award', 'Bachelor of Engineering (Electronics and Communication); Malnad College of Engineering, Hassan (MCE); 1999', 'Academia', 'ANNEXURE', 'Company Name    Aptean', 'Designation           R & D Manager (Equivalent to Sr. Engineering Manager)', 'Project Title', 'Duration', 'Team Size', 'Environment', 'Tools Used', 'Synopsis', 'ERP SAAS migration', 'Aug’19 – current', '32 (23 Dev including 2 architects and 1 associate architect + 8 QA + 1 Business Analyst)', 'Sencha (Ext JS), VB .Net, VFP, X#, C# (.Net Core)', 'Visual Studio, TFS (SCM), Jenkins(CI/CD), SQL Server, Azure', 'Leading the architecture team and setting up the Azure environment for the legacy on-prem to SAAS', 'migration of the ERP package. Beta release is Dec 2019 and microservices in 2020', 'Deliverables', 'Owning and managing a budget of $250k and responsible for a product generating $30M revenue.', 'Working  with  Product  Owners  and  Business  to  ensure  that  projects  are  tracked  using  Agile.', 'Ensuring  requirements  are  prioritized  and  demoed.  Stakeholders  include  executive  management.', 'Microservices POC done using docker to help in scaling the services faster depending on the load.', 'Initial  discussions  were  around  the  Azure  services  that  we  would  use:  Azure  Monitor,  SignalR,', 'Azure  Functions,  SSRS,  Azure  Blob  storage  and  use  of  existing  Load  balancing  functionality.', 'Business logic changes to support multi-tenancy and migration to HTTP calls from WCF TCP/IP.', 'Participated  in  the  design  of  the  Azure  infrastructure.  Currently  working  on  the  following:  1.', 'Performance  Testing  (Automating  the  testing  of  API  and  new  UI  screens)  .  This  would  help  in', 'understanding  the  current  load  of  the  system  so  we  can  identify  the  right  configuration  of  the', 'Azure servers and associated infrastructure to manage the cost. Also will ensure we can monitor the', 'quality  of  the  deployments  2.  Security  Testing:  To  identify  potential  issues  in  the  code,  network', 'infrastructure and this would be a part of the CI/CD pipeline 3. Identifying CI/CD specifications to', 'run the tests and also manage upgrades, etc. 4. Working with 3rd party to help in getting them ready', 'for the associated changes due to the SAAS migration. Regular activities like timesheet monitoring,', 'leave approvals, appraisals, goals, career planning, project reports, metrics, etc.', 'Company Name    AWS Truepower a UL Company', 'Designation           Software Development Manager (Equivalent to Engineering Manager)', 'Project Title', 'Duration', 'Team Size', 'Environment', 'Tools Used', 'Manage and deliver features for the BU', 'Aug’18 – May’19', '6', 'Angular 5, 6, PHP 7, Android, C++, C#, ReactNative, Node JS, Expo', 'Eclipse, Visual Studio Code, Android Studio, SVN (SCM), Bugzilla, Jenkins(CI/CD), MySQL, Private', 'Cloud', 'Small team of developers automating different parts of the organization with tight deadlines. Releases', 'done within 15 days to max 3 months and multiple projects in progress. IC', 'Synopsis', 'Deliverables', 'Owned and delivered new UI for windows desktop app using Telerik modules (C#). Implemented', 'features in Angular and PHP. Involved in design of application, database including identifying the', 'right  tech  stack  to  quickly  deliver  product.  Supported  the  team  by  doing  code  reviews  and', 'resolving  technical  issues.  Mentored  the  team  on  tech  stack  or  libraries  needed  to  speed  up', 'development. Ex: Use of Laravel framework to help in ensuring  the code is manageable. Also the', 'use of ReactNative to ensure that we can write code once and let it run across different devices like', 'Android and iOS. Requirements gathering, effort estimation, project planning, design and coding.', 'Resolving  cross  team  dependencies.  Interacting  with  marketing  to  identify  requirements  and', 'pricing  while  working  with  different  stakeholders  to  ensure  that  the  products  can  be  delivered', 'which would meet all the standards. Evaluating GDPR and other legal requirements to ensure we', 'are compliant. Working on process and technology improvements across multiple teams within the', 'BU. Involved in design and development including code reviews. Projects in the renewable energy', 'domain. Stakeholder management which could include internal and external stakeholders who are', 'customers for the initiatives that we are running within the organization. This work is being owned', 'and  delivered  by  the  Bangalore  team.  Identifying  areas  of  improvements  across  process  and', 'technology  to  ensure  faster delivery  and  improved quality  with  smaller  teams.  Working  with the', 'technical  stakeholders  to  identify  ways  to  deliver  products  quicker  which  include:  Microservices,', 'API  governance,  Blockchain,  automated  tools  like  Jenkins,  Augmented  Reality,  etc.  Regular', 'activities like timesheet monitoring, leave approvals, appraisals, goals, etc.', 'Company Name    Allstate Solutions Private Limited', 'Designation           Engineering Manager', 'Project Title', 'Duration', 'Team Size', 'Environment', 'Tools Used', 'Synopsis', 'Manage and deliver features for the BU', 'Sep’16 – Feb ‘18', '53', 'Objective-C, Android, Swift, Java web services, JavaScript and ASP .Net', 'Eclipse, Fiddler, GitHub, VSTS (SCM), Jira, Jenkins(CI/CD), Slack, Splunk, Hive, Cassandra', 'Three different teams are handling different projects: 1. Production support and feature development', 'in Java Spring  2. Sdk built separately for Android and iOS 3. Local project', 'Deliverables', 'Performance  evaluation  and  improvements  in  the  application  by  using  cloud  infrastructure.', 'Reviewing the architecture and code changes. Supporting the team by removing bottlenecks related', 'to  infrastructure,  requirements.  Part  of  the  innovation  council.  Helped  the  team migrate  to  Agile.', 'Helped  in  evaluating  the  current  status  of  the  scrum  process  followed.  Made  course  corrections', 'including switching the team to Kanban so that it can deliver better quality. Also worked with the', 'stakeholders  to  migrate  team  from  waterfall  to  Agile.  Evaluating  Java  Spring  to  implement  new', 'features.  Created  a  proposal  for  the  API  governance  strategy  for  the  Business  Unit  using', 'Microservices.  RPA  prototyping  done  using  BluePrism  and  UIPath.  Evaluating  Cassandra,  Kafka', 'and Hadoop. Also began work on altering the business logic of SDK so as to make it cross platform', 'which would speed up the development process and reduce maintenance time. Working with our', 'counterparts  to  help  the  team  get  development  work.  Ensured  delivery  of  in  house  project  and', 'made  the  team  get  Best  Project  2016  award.  Regular  activities  like  timesheet  monitoring,  leave', 'approvals, appraisals, goals, etc. Led a team of data analysts (Data Architect and Data Intern)', 'Company Name     Seastar Labs Pvt Ltd (Formerly Mamigo Inc)', 'Designation            Associate Architect', 'Project Title', 'Duration', 'Team Size', 'Environment', 'Tools Used', 'Synopsis', 'Design and development of the Eye4k and m4kr software and firmware.', 'Feb’15 – Apr’15, Feb’16 – July’ 16', '8', 'C++, C#, PHP,  AWS, XML, JSON and JavaScript on Windows and Linux', 'Eclipse, Visual Studio .NET 2010, 2012, Fiddler, WinDbg, SVN (SCM), Jira, Jenkins(CI/CD), TDD', 'The hardware device would have multiple 4K (3840x2160) cameras connected to it. The work involved', 'in  writing  both  the  firmware  and  PC  side  software  which  would  accept  live  video  streams  at  720p', '(1280x720) and downloading recording video at 4K(3840x2160)', 'Task allocation, tracking and providing weekly status reports. Risk analysis and risk mitigation plans', 'Designing the architecture for this product which was being developed from scratch using TDD', 'Using  OpenCV  and  GPU  for  video  streaming.  Video  processing.  Analyzing  and  implementing  the', 'AWS  SDK  with  PHP  to  upload  videos  for  remote  processing.  Micro  services  were  created  to  allow', 'third parties to integrate the apis. Developing the product by using TDD as a method to ensure code', 'quality is maintained.  Using delegates to support callbacks during device discovery (Bonjour) and for', 'events.  Evaluated  the  TPL  library  but  found  that  threading  was  more  appropriate  for  the  current', 'requirement.  Utilizing  the  ffmpeg  library  for  merging  and  saving  videos  to  disk  for  review.', 'Identifying and prototyping integration of bandwidth limiting software to simulate remote streaming.', 'IOT prototyping using AWS cloud where the camera video was controlled from a desktop via AWS', 'IOT service', 'Deliverables', 'Project Title', 'Duration', 'Development of a messaging iPhone app using Objective-C', 'May’15 – Jan’16', 'Team Size', 'Environment', 'Tools Used', 'Synopsis', 'Deliverables', 'Project Title', 'Duration', 'Team Size', 'Environment', 'Tools Used', 'Synopsis', 'Deliverables', '7', 'C, C++, Objective-C on Mac, RTP, SIP, ICE, STUN, TURN, libjingle, PJSIP, GPB and Android', 'XCode, Eclipse, SVN (SCM), Jira, Jenkins(CI/CD), TDD, OCLint, PMD', 'This app was having the following features: Secure chat, calling functionality, transfer of files across', 'different OS namely iPhone and Android.', 'Task allocation, tracking and providing weekly status reports. Risk analysis and risk mitigation plans', 'Daily standup meeting with client', 'The frameworks used for business logic were libjingle, PJSIP.', 'Google  Protocol  Buffer  was  used  to  ensure  that  the  communication  was  seamless  and  can  be', 'processed  at  both  ends.  Evaluating  and  identifying  the  framework  used  for  voice  calling', '(PJSIP/webrtc/Liblinphone). Utilized TDD to improve product quality for the existing native code.', 'Identifying the framework which can auto-generate Java wrappers for the native code namely Swig', 'Involved  in  ensuring that  the native code  was  used  in both  the  iPhone  and Android  versions  of  the', 'applications so as to improve maintainability', 'Design and development of the Nano SDK', 'Oct’14 – Feb’15', '7', 'C, C++,  Java on Windows and Linux, C# on Windows', 'Visual Studio 2008, Valgrind, SVN (SCM), Jira, Jenkins(CI/CD)', 'The  SDK  was  to  allow  third party  integrators  to  interact  and control  some  features  of the  firmware', 'which was a video camera. SDK had to be called from C, C++, Java and C# applications and sample', 'applications provided to show to use the same', 'Task allocation, tracking and providing weekly status reports. Risk analysis and risk mitigation plans', 'Daily standup meeting with client. Bug tracking, planning and releases. Designed and developed the', 'SDK  using  TDD  to  ensure  compatibility  with  C,  C++,  Java  and  C#  applications  and  across  both', 'Windows  and  Linux  OS.  Using  OpenCV  for  video  streaming.  Video  processing.  Implementing', 'algorithms for iris detection. Compared and selected the following platform independent frameworks', 'namely Apache thrift, Boost and POCO. Developed the critical functionality of camera detection using', 'Bonjour, storing data in local db and uploading to firmware, building the infrastructure for use by the', 'rest of the team Firmware development for the SDK functionality. Setting up and configuring Jenkins', 'for CI/CD on Windows and Linux', 'Company Name     Intuit India Product Dev Center', 'Designation            Lead Software Engineer', 'Project Title', 'Duration', 'Team Size', 'Environment', 'Tools Used', 'Synopsis', 'Deliverables', 'Payroll feature in QB', 'July’12 – Sep’14', '10', 'C++, MFC, COM, C# and WPF (XAML) based UI on Windows', 'Visual Studio.NET 2010, Fiddler, WinDbg, Perforce (SCM), Jira', 'The  payroll  feature  allows  the  owner  to  create  pay  checks,  pay  associated  taxes  and  file  tax  forms.', 'Additional features include sending data to cloud.', 'Looking  at  VOC  (Voice  of  Customer),  CP3  and  the  community  site  to  understand  customer  needs.', 'Using control and data templates in XAML to implement the UI. As an Agile coach, my contributions', 'include  facilitating  agile  adoption  by  mentoring  during  all  phases  including  but  not  limited  to:', 'Estimation, sprint planning, retrospective, etc. Generate effort estimate and identify solution based on', 'the  requirements.  Individual  Contributor  working  on  RTB  (Run  The  Business)  issues.  Own  the', 'compliance feature and work with the forms team to ensure that the tax forms get the correct data and', 'also to help in filing the associated forms. Designed the new payroll center module and provided the', 'LoE for the same. A level of complexity is that the code base contains 24 million lines of code. Around', 'half the time taken to fix a defect is used to search for the code and the rest split between manual unit', 'tests and reviews. Directly interact with PMs to get the requirements and provide inputs on technical', 'feasibility. Designed and implemented critical changes.', 'Project Title', 'Duration', 'Team Size', 'Environment', 'Tools Used', 'Synopsis', 'Deliverables', 'QB', 'Dec 2009 - Jul 2012', '10', 'C++, MFC, COM, C# and WPF (XAML) based UI on Windows', 'Visual Studio.NET 2010, Fiddler, WinDbg, Perforce (SCM), Jira', 'The application allows SBOs to handle book-keeping.', 'Estimation, designing  and  implementation of  features,  bug  fixing,  test plan review  and  unit  testing.', 'Individual contributor working on reports and UI refresh. Prototyped a feature within a week and the', 'feature was greenlit. As of now the feature is generating $10k. For 1 year I lead a team of 5 contractors', 'working  on  IPD.  Our  work  generated  revenues  of  $500k.  Directly  interact  with  PMs  to  get  the', 'requirements  and  provide  inputs  on  technical  feasibility.  Also  design  and  implement  the  critical', 'changes. Leading the developers by providing guidance and resolving dependencies with other teams', 'Company Name     iPass India Pvt Ltd', 'Designation            Technical Lead', 'Project Title', 'Duration', 'Team Size', 'Environment', 'Tools Used', 'Synopsis', 'Deliverables', 'iPC', 'Aug 2008 - Nov2009', '10 consultants (Till Mar 2009), 5 (Till Nov 2009)', 'C++, MFC, COM on Windows', 'Visual Studio.NET 2005, Wireshark, WinDbg, Perforce (SCM), Bugzilla', 'Enhancements and bug fixes in the iPass Connect application. The application allows users to connect', 'to their office network using methods like Dial, Wifi, Mobile Broadband.', 'Volunteered  and  took  up  projects  involving  creation  of  installer  packages.  Led  a  team  of  10', 'contractors  located  in  Hyderabad,  ensuring  that  the  bug  fixes  and  features  were  implemented', 'correctly. Analyzing the PRDs and identifying the solution and LoE (level of effort) for the same', 'Company Name   Wipro Technologies', 'Designation           Project Manager', 'Project Title', 'Duration', 'Team Size', 'Environment', 'Tools Used', 'Synopsis', 'Deliverables', 'Rose and Neo', 'Apr2007 - Aug2008', '8 comprising of 4 (Firmware) + 4 (Application)', 'C++, MFC on Windows', 'Rational Rose, SQL Server, Socket, Visual Studio.NET 2003/2005, MPP', 'The Rose sub-project involved localizing the existing 6 Windows based video application for FIGS', 'Lead  a  team  of 7  resources  and handling metrics calculations  for schedule,  effort deviation, review-', 'rework efforts, etc. Generate effort estimate and identify solution based on the requirements. Part of', 'the work involved ensuring that we received additional funding from the client for the current project', 'and also the next project. The challenges in this project included:', '\\uf0fc  Understanding and meeting the expectations of Japanese customer while ensuring that the quality', 'and schedule were met', '\\uf0fc  Understanding  the  features  of  E-Cube  (internal  task  tracking  tool)  and  practices  followed  while', 'ensuring that the work gets done on time', 'Company Name    Honeywell Technology Solutions Lab', 'Designation           Principal Engineer', 'Project Title', 'Duration', 'Team Size', 'Environment', 'Tools Used         DevPartner, Rational Clearcase, Rational Rose, SQL Server, socket, Visual Studio.NET 2002', 'Synopsis', 'Belfast', 'Nov2005 - Mar2007', '8 comprising of 5 (DSP) + 3 (Application)', 'C++, COM, C# on Windows', 'Provide  support  for  legacy  firmware  which  supported  digital  cameras  and  also  support  the  new', 'firmware which would support analog cameras.', 'Deliverables', 'Generate  effort  estimate  and  identify  solution  based  on  the  requirements.  Module  lead  for  the', 'software team:', '\\uf0fc  Supporting  interaction  between  C#  (UI),  Business  logic  (COM  as  the  main  layer  and  support', 'libraries in MFC) and communication layer (MFC).', '\\uf0fc  Synchronizing mechanisms like events and critical sections have been used to maintain the states', 'of the connected streams', '\\uf0fc  Used Intel IPP libraries to decompress the images received from the firmware', 'Project Title', 'Duration', 'Team Size', 'Environment', 'Tools Used         DevPartner, Rational Clearcase, socket, Visual Studio.NET 2002', 'Synopsis', 'Whistler', 'Jun2005 - Nov2005', '4 comprising of 3 (DSP) + 1 (Application)', 'C++, COM on Windows', 'Deliverables', 'Receive  MPEG4  compressed  images  being  streamed  on  the  network  using  the  RTP/RTSP  protocols', 'and de-compress the MPEG4 images to bitmaps.', 'MPEG4  was  chosen  as  it  provided  the  best  performance.  The  load  on  the  network  was  reduced  as', 'most of the frames would be reference frames. The challenges included:', 'Understanding the RTP/RTSP protocols and MPEG 4.', '\\uf0fc  Handling  the  socket  issues  where  the  DSP  would  not  receive  the  requests  of  the  application,', 'latency issues, etc.', '\\uf0fc  Evaluated  the  SLP  and  Bonjour  device  discovery  protocols.  A  QFD  was  done  to  decide  on  the', 'protocol that would suit our requirements.', 'AVPS', 'Feb2004 - Jun2005', '9 comprising of 5 (Research) + 4 (development)', 'C++, MFC, COM on Windows', 'Project Title', 'Duration', 'Team Size', 'Environment', 'Tools Used         DevPartner, VSS, SQL Server, Visual Studio.NET 2002', 'Synopsis', 'Optimize the algorithm for classifying moving objects.', 'Deliverables', 'The challenge  here  was  to  understand  the  algorithms  being  implemented  by  the  research  team  and', 'write code which would provide the best performance while keeping the false positives to a minimu.', 'The  architecture  was  designed  so  that  we  would  have  a  component called  the  AVPS  Manager  who', 'would  be  the  main  interface  between  the  modules  and  the  client  interacting  the  modules.  We  used', 'DevPartner to figure out performance bottlenecks, detect errors like memory issues & code coverage', 'Company Name    Celstream Technologies Pvt Ltd', 'Designation            Software Engineer', 'Project Title', 'Duration', 'Team Size', 'Environment', 'Tools Used', 'Synopsis', 'Deliverables', 'Mango', 'Dec2002 - Feb2004', '24 comprising of 9 (offsite) + 15 (onsite)', 'C++, COM on Windows', 'Rational Clearcase, Rational Rose and Visual Studio 6', 'Create a cleaner and COM based version of the support for the Odetics protocol.', 'Rational Rose was used, to create the System Sequence diagrams for the functionality to be handled.', 'This was a multithreaded application and we are using synchronizing methods like Critical Sections,', 'Events.', 'Project Title', 'Duration', 'Team Size', 'Environment', 'Tools Used', 'Synopsis', 'Protocol Objects', 'Oct2001 - Dec2002', '3', 'MFC on Windows', 'Rational Clearcase, Rational Rose and Visual Studio 6', 'We upgraded the support for the Odetics protocol.', 'Deliverables', 'The existing code was supporting multiple protocols, which made it slow and buggy. The code had', 'also been modified by a lot of users. Modified the existing Odetics commands to provide greater ease', 'to  the  users of  our  application,  support  has been  added  for  Fiber channel commands  in  the  Odetics', 'Protocol (ADSP protocol)', 'Project Title', 'Duration', 'Team Size', 'Environment', 'Tools Used', 'Synopsis', 'Deliverables', 'Maintenance of products', 'Apr2001 - Oct2001', '12 comprising of 2 (offsite) & 10 (onsite)', 'MFC on Windows', 'Rational Clearcase, Rational Rose and Visual Studio 6', 'Bug fixing of the products', 'One product  is  a device  used to record and play  video clips. The  other product  is  used to  keep  the', 'sync between two machines', 'Company Name    Trigent Software Pvt Ltd', 'Designation            Software Engineer', 'Project Title', 'Duration', 'Team Size', 'Environment', 'Tools Used', 'Synopsis', 'Deliverables', 'Alpha (Internal Project)', 'Jan2001 - Apr2001', '15', 'JSP and Java beans,', 'Tomcat server(v 3.2.1), Java', 'Automate the working of Allocation, Travel and Visa cells', 'Stored procedures  were  used  to make  the queries,  so  that  we  can reduce  the  overhead  of  executing', 'each sql query from the bean and awaiting the return value.', 'Project Title', 'Duration', 'Team Size', 'Environment', 'Tools Used', 'Synopsis', 'Deliverables', 'ASR (Automatic Speech Recognition)', 'Nov2000 - Dec2000', '3', 'MFC on Windows', 'Visual Studio 6', 'Allow the users to evaluate their manner of pronunciation', 'Data transfer between the browser and the VC++ code was done using JavaScript and a Java class, as', 'JavaScript cant access the users system.', 'Company Name     Foresee Information Systems Pvt Ltd', 'Designation            Software Engineer', 'Project Title', 'Duration', 'Team Size', 'Environment', 'Tools Used', 'Synopsis', 'Deliverables', 'Developing samples to be placed on a website similar to CodeGuru', 'Oct 1999 – Sep 2000', '14', 'Win32 on Windows', 'VC++ 5.0', 'Programmatically display the response of each function', 'Pipes, cryptography, file installation, file decompression list View, event logging and synchronization', 'functions including generation of keys, etc']\n"
          ]
        }
      ]
    },
    {
      "cell_type": "code",
      "source": [
        "name_list =[]\n",
        "email_ids = []\n",
        "phone_nos = []\n",
        "education_1 = []\n",
        "education_2 = []\n",
        "skills_1 = []\n",
        "skills_2 = []\n",
        "experience_1 = []\n",
        "experience_2 = []\n",
        "\n",
        "for file_name in file_names:\n",
        "    if file_name.endswith('.pdf'):\n",
        "        document = open_pdf_file(file_name)\n",
        "    elif file_name.endswith('.docx'):\n",
        "        document = open_docx_file(file_name)\n",
        "\n",
        "    my_string = ' '.join(document)\n",
        "    name = extract_name(my_string)\n",
        "    print(name)\n",
        "    if len(name) > 0:\n",
        "        name_list.append(name)\n",
        "    else:\n",
        "        name_list.append('')\n",
        "\n",
        "\n",
        "    email = get_email(document)\n",
        "    phone_no = get_phone_no(document)\n",
        "    document = preprocess_document(document)\n",
        "    #print ('\\n\\n')\n",
        "    #print (file_name)\n",
        "    #print ('Email is {} phone number is {}'.format(email, phone_no))\n",
        "    if len(email) > 0:\n",
        "        email_ids.append(email[0])\n",
        "    else:\n",
        "        email_ids.append('')\n",
        "\n",
        "    if len(phone_no) > 0:\n",
        "        phone_nos.append(phone_no[0])\n",
        "    else:\n",
        "        phone_nos.append('')\n",
        "\n",
        "    education = get_education(document)\n",
        "    #print ('Education ', get_education(document))\n",
        "    if len(education) > 1:\n",
        "        education_1.append(education[0])\n",
        "        education_2.append(education[1])\n",
        "    elif len(education) == 1:\n",
        "        education_1.append(education[0])\n",
        "        education_2.append('')\n",
        "    elif len(education) == 0:\n",
        "        education_1.append('')\n",
        "        education_2.append('')\n",
        "\n",
        "    skills = get_skills(document)\n",
        "    #print ('Skills ', skills)\n",
        "\n",
        "    if len(skills) > 1:\n",
        "        skills_1.append(skills[0])\n",
        "        skills_2.append(skills[1])\n",
        "    elif len(skills) == 1:\n",
        "        skills_1.append(skills[0])\n",
        "        skills_2.append('')\n",
        "    elif len(skills) == 0:\n",
        "        skills_1.append('')\n",
        "        skills_2.append('')\n",
        "\n",
        "    experience = get_experience(document)\n",
        "    #print ('Experience ', get_experience(document))\n",
        "    if len(experience) > 1:\n",
        "        experience_1.append(experience[0])\n",
        "        experience_2.append(experience[1])\n",
        "    elif len(experience) == 1:\n",
        "        experience_1.append(experience[0])\n",
        "        experience_2.append('')\n",
        "    elif len(experience) == 0:\n",
        "        experience_1.append('')\n",
        "        experience_2.append('')"
      ],
      "metadata": {
        "colab": {
          "base_uri": "https://localhost:8080/"
        },
        "id": "mDoVd2nFWl3p",
        "outputId": "7b5c456f-d259-4d99-d417-e2ca22dcb737"
      },
      "execution_count": 47,
      "outputs": [
        {
          "output_type": "stream",
          "name": "stdout",
          "text": [
            "SURYAKIRAN KASTURI\n",
            "MONICA MEYER\n",
            "McAllister St\n",
            "Sébastien Genty\n",
            "Brendan Herger\n",
            "John Smith\n",
            "john smith\n"
          ]
        }
      ]
    },
    {
      "cell_type": "code",
      "source": [
        "import pandas as pd\n",
        "df = pd.DataFrame({'Name':name_list,'email id':email_ids, 'phone nos':phone_nos, 'education 1':education_1, 'education 2':education_2, 'skills 1':skills_1,\n",
        "              'skills 2':skills_2, 'experience 1':experience_1, 'experiece 2':experience_2})"
      ],
      "metadata": {
        "id": "x-jaUjcINDzr"
      },
      "execution_count": 48,
      "outputs": []
    },
    {
      "cell_type": "code",
      "source": [
        "!pip install openpyxl"
      ],
      "metadata": {
        "colab": {
          "base_uri": "https://localhost:8080/"
        },
        "id": "06fwcD9ae7aY",
        "outputId": "902e9a07-d961-4bab-c05f-2551666b2b68"
      },
      "execution_count": 49,
      "outputs": [
        {
          "output_type": "stream",
          "name": "stdout",
          "text": [
            "Requirement already satisfied: openpyxl in /usr/local/lib/python3.10/dist-packages (3.0.10)\n",
            "Requirement already satisfied: et-xmlfile in /usr/local/lib/python3.10/dist-packages (from openpyxl) (1.1.0)\n"
          ]
        }
      ]
    },
    {
      "cell_type": "code",
      "source": [
        "PATH_SAVE='/content/drive/MyDrive/DataForMasterProject/ActualDataFolder/Resume_extracted_data.xlsx'\n",
        "#df.to_excel(PATH_SAVE)"
      ],
      "metadata": {
        "id": "Xq3mi3lcNMwW"
      },
      "execution_count": 50,
      "outputs": []
    },
    {
      "cell_type": "code",
      "source": [
        "try:\n",
        "    df.to_excel(PATH_SAVE)\n",
        "    print(\"File saved successfully.\")\n",
        "except Exception as e:\n",
        "    print(\"Error occurred while saving the file:\", str(e))"
      ],
      "metadata": {
        "colab": {
          "base_uri": "https://localhost:8080/"
        },
        "id": "9DpFxcK_frHe",
        "outputId": "7a165298-7ff0-469c-af72-49164c1a6e7f"
      },
      "execution_count": 51,
      "outputs": [
        {
          "output_type": "stream",
          "name": "stdout",
          "text": [
            "File saved successfully.\n"
          ]
        }
      ]
    },
    {
      "cell_type": "markdown",
      "source": [
        "**Extracting Information with SpaCy’s**"
      ],
      "metadata": {
        "id": "zrkAAQD9so4V"
      }
    },
    {
      "cell_type": "code",
      "source": [
        "!pip install spacy"
      ],
      "metadata": {
        "id": "d8u3TjSN8vjm",
        "colab": {
          "base_uri": "https://localhost:8080/"
        },
        "outputId": "e39d84c9-579f-4436-db43-8683eb0cb0db"
      },
      "execution_count": null,
      "outputs": [
        {
          "output_type": "stream",
          "name": "stdout",
          "text": [
            "Requirement already satisfied: spacy in /usr/local/lib/python3.10/dist-packages (3.6.0)\n",
            "Requirement already satisfied: spacy-legacy<3.1.0,>=3.0.11 in /usr/local/lib/python3.10/dist-packages (from spacy) (3.0.12)\n",
            "Requirement already satisfied: spacy-loggers<2.0.0,>=1.0.0 in /usr/local/lib/python3.10/dist-packages (from spacy) (1.0.4)\n",
            "Requirement already satisfied: murmurhash<1.1.0,>=0.28.0 in /usr/local/lib/python3.10/dist-packages (from spacy) (1.0.9)\n",
            "Requirement already satisfied: cymem<2.1.0,>=2.0.2 in /usr/local/lib/python3.10/dist-packages (from spacy) (2.0.7)\n",
            "Requirement already satisfied: preshed<3.1.0,>=3.0.2 in /usr/local/lib/python3.10/dist-packages (from spacy) (3.0.8)\n",
            "Requirement already satisfied: thinc<8.2.0,>=8.1.8 in /usr/local/lib/python3.10/dist-packages (from spacy) (8.1.10)\n",
            "Requirement already satisfied: wasabi<1.2.0,>=0.9.1 in /usr/local/lib/python3.10/dist-packages (from spacy) (1.1.2)\n",
            "Requirement already satisfied: srsly<3.0.0,>=2.4.3 in /usr/local/lib/python3.10/dist-packages (from spacy) (2.4.6)\n",
            "Requirement already satisfied: catalogue<2.1.0,>=2.0.6 in /usr/local/lib/python3.10/dist-packages (from spacy) (2.0.8)\n",
            "Requirement already satisfied: typer<0.10.0,>=0.3.0 in /usr/local/lib/python3.10/dist-packages (from spacy) (0.9.0)\n",
            "Requirement already satisfied: pathy>=0.10.0 in /usr/local/lib/python3.10/dist-packages (from spacy) (0.10.2)\n",
            "Requirement already satisfied: smart-open<7.0.0,>=5.2.1 in /usr/local/lib/python3.10/dist-packages (from spacy) (6.3.0)\n",
            "Requirement already satisfied: tqdm<5.0.0,>=4.38.0 in /usr/local/lib/python3.10/dist-packages (from spacy) (4.65.0)\n",
            "Requirement already satisfied: numpy>=1.15.0 in /usr/local/lib/python3.10/dist-packages (from spacy) (1.25.1)\n",
            "Requirement already satisfied: requests<3.0.0,>=2.13.0 in /usr/local/lib/python3.10/dist-packages (from spacy) (2.31.0)\n",
            "Requirement already satisfied: pydantic!=1.8,!=1.8.1,<1.11.0,>=1.7.4 in /usr/local/lib/python3.10/dist-packages (from spacy) (1.10.11)\n",
            "Requirement already satisfied: jinja2 in /usr/local/lib/python3.10/dist-packages (from spacy) (3.1.2)\n",
            "Requirement already satisfied: setuptools in /usr/local/lib/python3.10/dist-packages (from spacy) (68.0.0)\n",
            "Requirement already satisfied: packaging>=20.0 in /usr/local/lib/python3.10/dist-packages (from spacy) (23.1)\n",
            "Requirement already satisfied: langcodes<4.0.0,>=3.2.0 in /usr/local/lib/python3.10/dist-packages (from spacy) (3.3.0)\n",
            "Requirement already satisfied: typing-extensions>=4.2.0 in /usr/local/lib/python3.10/dist-packages (from pydantic!=1.8,!=1.8.1,<1.11.0,>=1.7.4->spacy) (4.7.1)\n",
            "Requirement already satisfied: charset-normalizer<4,>=2 in /usr/local/lib/python3.10/dist-packages (from requests<3.0.0,>=2.13.0->spacy) (3.2.0)\n",
            "Requirement already satisfied: idna<4,>=2.5 in /usr/local/lib/python3.10/dist-packages (from requests<3.0.0,>=2.13.0->spacy) (3.4)\n",
            "Requirement already satisfied: urllib3<3,>=1.21.1 in /usr/local/lib/python3.10/dist-packages (from requests<3.0.0,>=2.13.0->spacy) (2.0.3)\n",
            "Requirement already satisfied: certifi>=2017.4.17 in /usr/local/lib/python3.10/dist-packages (from requests<3.0.0,>=2.13.0->spacy) (2023.5.7)\n",
            "Requirement already satisfied: blis<0.8.0,>=0.7.8 in /usr/local/lib/python3.10/dist-packages (from thinc<8.2.0,>=8.1.8->spacy) (0.7.9)\n",
            "Requirement already satisfied: confection<1.0.0,>=0.0.1 in /usr/local/lib/python3.10/dist-packages (from thinc<8.2.0,>=8.1.8->spacy) (0.1.0)\n",
            "Requirement already satisfied: click<9.0.0,>=7.1.1 in /usr/local/lib/python3.10/dist-packages (from typer<0.10.0,>=0.3.0->spacy) (8.1.5)\n",
            "Requirement already satisfied: MarkupSafe>=2.0 in /usr/local/lib/python3.10/dist-packages (from jinja2->spacy) (2.1.3)\n"
          ]
        }
      ]
    },
    {
      "cell_type": "code",
      "source": [
        "!pip install tensorflow"
      ],
      "metadata": {
        "colab": {
          "base_uri": "https://localhost:8080/",
          "height": 1000
        },
        "id": "W8591n0Y8wwP",
        "outputId": "aa8612dd-d6ef-4ce6-f00e-4c8db7a17cc9"
      },
      "execution_count": null,
      "outputs": [
        {
          "output_type": "stream",
          "name": "stdout",
          "text": [
            "Requirement already satisfied: tensorflow in /usr/local/lib/python3.10/dist-packages (2.12.0)\n",
            "Requirement already satisfied: absl-py>=1.0.0 in /usr/local/lib/python3.10/dist-packages (from tensorflow) (1.4.0)\n",
            "Requirement already satisfied: astunparse>=1.6.0 in /usr/local/lib/python3.10/dist-packages (from tensorflow) (1.6.3)\n",
            "Requirement already satisfied: flatbuffers>=2.0 in /usr/local/lib/python3.10/dist-packages (from tensorflow) (23.5.26)\n",
            "Requirement already satisfied: gast<=0.4.0,>=0.2.1 in /usr/local/lib/python3.10/dist-packages (from tensorflow) (0.4.0)\n",
            "Requirement already satisfied: google-pasta>=0.1.1 in /usr/local/lib/python3.10/dist-packages (from tensorflow) (0.2.0)\n",
            "Requirement already satisfied: grpcio<2.0,>=1.24.3 in /usr/local/lib/python3.10/dist-packages (from tensorflow) (1.56.0)\n",
            "Requirement already satisfied: h5py>=2.9.0 in /usr/local/lib/python3.10/dist-packages (from tensorflow) (3.8.0)\n",
            "Requirement already satisfied: jax>=0.3.15 in /usr/local/lib/python3.10/dist-packages (from tensorflow) (0.4.13)\n",
            "Requirement already satisfied: keras<2.13,>=2.12.0 in /usr/local/lib/python3.10/dist-packages (from tensorflow) (2.12.0)\n",
            "Requirement already satisfied: libclang>=13.0.0 in /usr/local/lib/python3.10/dist-packages (from tensorflow) (16.0.0)\n",
            "Collecting numpy<1.24,>=1.22 (from tensorflow)\n",
            "  Downloading numpy-1.23.5-cp310-cp310-manylinux_2_17_x86_64.manylinux2014_x86_64.whl (17.1 MB)\n",
            "\u001b[2K     \u001b[90m━━━━━━━━━━━━━━━━━━━━━━━━━━━━━━━━━━━━━━━━\u001b[0m \u001b[32m17.1/17.1 MB\u001b[0m \u001b[31m50.8 MB/s\u001b[0m eta \u001b[36m0:00:00\u001b[0m\n",
            "\u001b[?25hRequirement already satisfied: opt-einsum>=2.3.2 in /usr/local/lib/python3.10/dist-packages (from tensorflow) (3.3.0)\n",
            "Requirement already satisfied: packaging in /usr/local/lib/python3.10/dist-packages (from tensorflow) (23.1)\n",
            "Requirement already satisfied: protobuf!=4.21.0,!=4.21.1,!=4.21.2,!=4.21.3,!=4.21.4,!=4.21.5,<5.0.0dev,>=3.20.3 in /usr/local/lib/python3.10/dist-packages (from tensorflow) (3.20.3)\n",
            "Requirement already satisfied: setuptools in /usr/local/lib/python3.10/dist-packages (from tensorflow) (68.0.0)\n",
            "Requirement already satisfied: six>=1.12.0 in /usr/local/lib/python3.10/dist-packages (from tensorflow) (1.16.0)\n",
            "Requirement already satisfied: tensorboard<2.13,>=2.12 in /usr/local/lib/python3.10/dist-packages (from tensorflow) (2.12.3)\n",
            "Requirement already satisfied: tensorflow-estimator<2.13,>=2.12.0 in /usr/local/lib/python3.10/dist-packages (from tensorflow) (2.12.0)\n",
            "Requirement already satisfied: termcolor>=1.1.0 in /usr/local/lib/python3.10/dist-packages (from tensorflow) (2.3.0)\n",
            "Requirement already satisfied: typing-extensions>=3.6.6 in /usr/local/lib/python3.10/dist-packages (from tensorflow) (4.7.1)\n",
            "Requirement already satisfied: wrapt<1.15,>=1.11.0 in /usr/local/lib/python3.10/dist-packages (from tensorflow) (1.14.1)\n",
            "Requirement already satisfied: tensorflow-io-gcs-filesystem>=0.23.1 in /usr/local/lib/python3.10/dist-packages (from tensorflow) (0.32.0)\n",
            "Requirement already satisfied: wheel<1.0,>=0.23.0 in /usr/local/lib/python3.10/dist-packages (from astunparse>=1.6.0->tensorflow) (0.40.0)\n",
            "Requirement already satisfied: ml-dtypes>=0.1.0 in /usr/local/lib/python3.10/dist-packages (from jax>=0.3.15->tensorflow) (0.2.0)\n",
            "Requirement already satisfied: scipy>=1.7 in /usr/local/lib/python3.10/dist-packages (from jax>=0.3.15->tensorflow) (1.10.1)\n",
            "Requirement already satisfied: google-auth<3,>=1.6.3 in /usr/local/lib/python3.10/dist-packages (from tensorboard<2.13,>=2.12->tensorflow) (2.17.3)\n",
            "Requirement already satisfied: google-auth-oauthlib<1.1,>=0.5 in /usr/local/lib/python3.10/dist-packages (from tensorboard<2.13,>=2.12->tensorflow) (1.0.0)\n",
            "Requirement already satisfied: markdown>=2.6.8 in /usr/local/lib/python3.10/dist-packages (from tensorboard<2.13,>=2.12->tensorflow) (3.4.3)\n",
            "Requirement already satisfied: requests<3,>=2.21.0 in /usr/local/lib/python3.10/dist-packages (from tensorboard<2.13,>=2.12->tensorflow) (2.31.0)\n",
            "Requirement already satisfied: tensorboard-data-server<0.8.0,>=0.7.0 in /usr/local/lib/python3.10/dist-packages (from tensorboard<2.13,>=2.12->tensorflow) (0.7.1)\n",
            "Requirement already satisfied: werkzeug>=1.0.1 in /usr/local/lib/python3.10/dist-packages (from tensorboard<2.13,>=2.12->tensorflow) (2.3.6)\n",
            "Requirement already satisfied: cachetools<6.0,>=2.0.0 in /usr/local/lib/python3.10/dist-packages (from google-auth<3,>=1.6.3->tensorboard<2.13,>=2.12->tensorflow) (5.3.1)\n",
            "Requirement already satisfied: pyasn1-modules>=0.2.1 in /usr/local/lib/python3.10/dist-packages (from google-auth<3,>=1.6.3->tensorboard<2.13,>=2.12->tensorflow) (0.3.0)\n",
            "Requirement already satisfied: rsa<5,>=3.1.4 in /usr/local/lib/python3.10/dist-packages (from google-auth<3,>=1.6.3->tensorboard<2.13,>=2.12->tensorflow) (4.9)\n",
            "Requirement already satisfied: requests-oauthlib>=0.7.0 in /usr/local/lib/python3.10/dist-packages (from google-auth-oauthlib<1.1,>=0.5->tensorboard<2.13,>=2.12->tensorflow) (1.3.1)\n",
            "Requirement already satisfied: charset-normalizer<4,>=2 in /usr/local/lib/python3.10/dist-packages (from requests<3,>=2.21.0->tensorboard<2.13,>=2.12->tensorflow) (3.2.0)\n",
            "Requirement already satisfied: idna<4,>=2.5 in /usr/local/lib/python3.10/dist-packages (from requests<3,>=2.21.0->tensorboard<2.13,>=2.12->tensorflow) (3.4)\n",
            "Requirement already satisfied: urllib3<3,>=1.21.1 in /usr/local/lib/python3.10/dist-packages (from requests<3,>=2.21.0->tensorboard<2.13,>=2.12->tensorflow) (2.0.3)\n",
            "Requirement already satisfied: certifi>=2017.4.17 in /usr/local/lib/python3.10/dist-packages (from requests<3,>=2.21.0->tensorboard<2.13,>=2.12->tensorflow) (2023.5.7)\n",
            "Requirement already satisfied: MarkupSafe>=2.1.1 in /usr/local/lib/python3.10/dist-packages (from werkzeug>=1.0.1->tensorboard<2.13,>=2.12->tensorflow) (2.1.3)\n",
            "Requirement already satisfied: pyasn1<0.6.0,>=0.4.6 in /usr/local/lib/python3.10/dist-packages (from pyasn1-modules>=0.2.1->google-auth<3,>=1.6.3->tensorboard<2.13,>=2.12->tensorflow) (0.5.0)\n",
            "Requirement already satisfied: oauthlib>=3.0.0 in /usr/local/lib/python3.10/dist-packages (from requests-oauthlib>=0.7.0->google-auth-oauthlib<1.1,>=0.5->tensorboard<2.13,>=2.12->tensorflow) (3.2.2)\n",
            "Installing collected packages: numpy\n",
            "  Attempting uninstall: numpy\n",
            "    Found existing installation: numpy 1.25.1\n",
            "    Uninstalling numpy-1.25.1:\n",
            "      Successfully uninstalled numpy-1.25.1\n",
            "Successfully installed numpy-1.23.5\n"
          ]
        },
        {
          "output_type": "display_data",
          "data": {
            "application/vnd.colab-display-data+json": {
              "pip_warning": {
                "packages": [
                  "numpy"
                ]
              }
            }
          },
          "metadata": {}
        }
      ]
    },
    {
      "cell_type": "code",
      "source": [
        "!python -m spacy download en_core_web_sm"
      ],
      "metadata": {
        "id": "KZ1v_trN88Lt",
        "colab": {
          "base_uri": "https://localhost:8080/"
        },
        "outputId": "e0be9187-a48f-488d-b3bb-bf463c81d1a0"
      },
      "execution_count": null,
      "outputs": [
        {
          "output_type": "stream",
          "name": "stdout",
          "text": [
            "2023-07-14 05:51:40.867904: W tensorflow/compiler/tf2tensorrt/utils/py_utils.cc:38] TF-TRT Warning: Could not find TensorRT\n",
            "Collecting en-core-web-sm==3.6.0\n",
            "  Downloading https://github.com/explosion/spacy-models/releases/download/en_core_web_sm-3.6.0/en_core_web_sm-3.6.0-py3-none-any.whl (12.8 MB)\n",
            "\u001b[2K     \u001b[90m━━━━━━━━━━━━━━━━━━━━━━━━━━━━━━━━━━━━━━━━\u001b[0m \u001b[32m12.8/12.8 MB\u001b[0m \u001b[31m69.5 MB/s\u001b[0m eta \u001b[36m0:00:00\u001b[0m\n",
            "\u001b[?25hRequirement already satisfied: spacy<3.7.0,>=3.6.0 in /usr/local/lib/python3.10/dist-packages (from en-core-web-sm==3.6.0) (3.6.0)\n",
            "Requirement already satisfied: spacy-legacy<3.1.0,>=3.0.11 in /usr/local/lib/python3.10/dist-packages (from spacy<3.7.0,>=3.6.0->en-core-web-sm==3.6.0) (3.0.12)\n",
            "Requirement already satisfied: spacy-loggers<2.0.0,>=1.0.0 in /usr/local/lib/python3.10/dist-packages (from spacy<3.7.0,>=3.6.0->en-core-web-sm==3.6.0) (1.0.4)\n",
            "Requirement already satisfied: murmurhash<1.1.0,>=0.28.0 in /usr/local/lib/python3.10/dist-packages (from spacy<3.7.0,>=3.6.0->en-core-web-sm==3.6.0) (1.0.9)\n",
            "Requirement already satisfied: cymem<2.1.0,>=2.0.2 in /usr/local/lib/python3.10/dist-packages (from spacy<3.7.0,>=3.6.0->en-core-web-sm==3.6.0) (2.0.7)\n",
            "Requirement already satisfied: preshed<3.1.0,>=3.0.2 in /usr/local/lib/python3.10/dist-packages (from spacy<3.7.0,>=3.6.0->en-core-web-sm==3.6.0) (3.0.8)\n",
            "Requirement already satisfied: thinc<8.2.0,>=8.1.8 in /usr/local/lib/python3.10/dist-packages (from spacy<3.7.0,>=3.6.0->en-core-web-sm==3.6.0) (8.1.10)\n",
            "Requirement already satisfied: wasabi<1.2.0,>=0.9.1 in /usr/local/lib/python3.10/dist-packages (from spacy<3.7.0,>=3.6.0->en-core-web-sm==3.6.0) (1.1.2)\n",
            "Requirement already satisfied: srsly<3.0.0,>=2.4.3 in /usr/local/lib/python3.10/dist-packages (from spacy<3.7.0,>=3.6.0->en-core-web-sm==3.6.0) (2.4.6)\n",
            "Requirement already satisfied: catalogue<2.1.0,>=2.0.6 in /usr/local/lib/python3.10/dist-packages (from spacy<3.7.0,>=3.6.0->en-core-web-sm==3.6.0) (2.0.8)\n",
            "Requirement already satisfied: typer<0.10.0,>=0.3.0 in /usr/local/lib/python3.10/dist-packages (from spacy<3.7.0,>=3.6.0->en-core-web-sm==3.6.0) (0.9.0)\n",
            "Requirement already satisfied: pathy>=0.10.0 in /usr/local/lib/python3.10/dist-packages (from spacy<3.7.0,>=3.6.0->en-core-web-sm==3.6.0) (0.10.2)\n",
            "Requirement already satisfied: smart-open<7.0.0,>=5.2.1 in /usr/local/lib/python3.10/dist-packages (from spacy<3.7.0,>=3.6.0->en-core-web-sm==3.6.0) (6.3.0)\n",
            "Requirement already satisfied: tqdm<5.0.0,>=4.38.0 in /usr/local/lib/python3.10/dist-packages (from spacy<3.7.0,>=3.6.0->en-core-web-sm==3.6.0) (4.65.0)\n",
            "Requirement already satisfied: numpy>=1.15.0 in /usr/local/lib/python3.10/dist-packages (from spacy<3.7.0,>=3.6.0->en-core-web-sm==3.6.0) (1.23.5)\n",
            "Requirement already satisfied: requests<3.0.0,>=2.13.0 in /usr/local/lib/python3.10/dist-packages (from spacy<3.7.0,>=3.6.0->en-core-web-sm==3.6.0) (2.31.0)\n",
            "Requirement already satisfied: pydantic!=1.8,!=1.8.1,<1.11.0,>=1.7.4 in /usr/local/lib/python3.10/dist-packages (from spacy<3.7.0,>=3.6.0->en-core-web-sm==3.6.0) (1.10.11)\n",
            "Requirement already satisfied: jinja2 in /usr/local/lib/python3.10/dist-packages (from spacy<3.7.0,>=3.6.0->en-core-web-sm==3.6.0) (3.1.2)\n",
            "Requirement already satisfied: setuptools in /usr/local/lib/python3.10/dist-packages (from spacy<3.7.0,>=3.6.0->en-core-web-sm==3.6.0) (68.0.0)\n",
            "Requirement already satisfied: packaging>=20.0 in /usr/local/lib/python3.10/dist-packages (from spacy<3.7.0,>=3.6.0->en-core-web-sm==3.6.0) (23.1)\n",
            "Requirement already satisfied: langcodes<4.0.0,>=3.2.0 in /usr/local/lib/python3.10/dist-packages (from spacy<3.7.0,>=3.6.0->en-core-web-sm==3.6.0) (3.3.0)\n",
            "Requirement already satisfied: typing-extensions>=4.2.0 in /usr/local/lib/python3.10/dist-packages (from pydantic!=1.8,!=1.8.1,<1.11.0,>=1.7.4->spacy<3.7.0,>=3.6.0->en-core-web-sm==3.6.0) (4.7.1)\n",
            "Requirement already satisfied: charset-normalizer<4,>=2 in /usr/local/lib/python3.10/dist-packages (from requests<3.0.0,>=2.13.0->spacy<3.7.0,>=3.6.0->en-core-web-sm==3.6.0) (3.2.0)\n",
            "Requirement already satisfied: idna<4,>=2.5 in /usr/local/lib/python3.10/dist-packages (from requests<3.0.0,>=2.13.0->spacy<3.7.0,>=3.6.0->en-core-web-sm==3.6.0) (3.4)\n",
            "Requirement already satisfied: urllib3<3,>=1.21.1 in /usr/local/lib/python3.10/dist-packages (from requests<3.0.0,>=2.13.0->spacy<3.7.0,>=3.6.0->en-core-web-sm==3.6.0) (2.0.3)\n",
            "Requirement already satisfied: certifi>=2017.4.17 in /usr/local/lib/python3.10/dist-packages (from requests<3.0.0,>=2.13.0->spacy<3.7.0,>=3.6.0->en-core-web-sm==3.6.0) (2023.5.7)\n",
            "Requirement already satisfied: blis<0.8.0,>=0.7.8 in /usr/local/lib/python3.10/dist-packages (from thinc<8.2.0,>=8.1.8->spacy<3.7.0,>=3.6.0->en-core-web-sm==3.6.0) (0.7.9)\n",
            "Requirement already satisfied: confection<1.0.0,>=0.0.1 in /usr/local/lib/python3.10/dist-packages (from thinc<8.2.0,>=8.1.8->spacy<3.7.0,>=3.6.0->en-core-web-sm==3.6.0) (0.1.0)\n",
            "Requirement already satisfied: click<9.0.0,>=7.1.1 in /usr/local/lib/python3.10/dist-packages (from typer<0.10.0,>=0.3.0->spacy<3.7.0,>=3.6.0->en-core-web-sm==3.6.0) (8.1.5)\n",
            "Requirement already satisfied: MarkupSafe>=2.0 in /usr/local/lib/python3.10/dist-packages (from jinja2->spacy<3.7.0,>=3.6.0->en-core-web-sm==3.6.0) (2.1.3)\n",
            "\u001b[38;5;2m✔ Download and installation successful\u001b[0m\n",
            "You can now load the package via spacy.load('en_core_web_sm')\n"
          ]
        }
      ]
    },
    {
      "cell_type": "code",
      "source": [
        "!pip install pdfminer.six"
      ],
      "metadata": {
        "id": "kp2zp0aY9Vao",
        "colab": {
          "base_uri": "https://localhost:8080/"
        },
        "outputId": "8ac8cdcb-56fa-48a8-d6cf-b44087146f0f"
      },
      "execution_count": null,
      "outputs": [
        {
          "output_type": "stream",
          "name": "stdout",
          "text": [
            "Requirement already satisfied: pdfminer.six in /usr/local/lib/python3.10/dist-packages (20221105)\n",
            "Requirement already satisfied: charset-normalizer>=2.0.0 in /usr/local/lib/python3.10/dist-packages (from pdfminer.six) (3.2.0)\n",
            "Requirement already satisfied: cryptography>=36.0.0 in /usr/local/lib/python3.10/dist-packages (from pdfminer.six) (41.0.2)\n",
            "Requirement already satisfied: cffi>=1.12 in /usr/local/lib/python3.10/dist-packages (from cryptography>=36.0.0->pdfminer.six) (1.15.1)\n",
            "Requirement already satisfied: pycparser in /usr/local/lib/python3.10/dist-packages (from cffi>=1.12->cryptography>=36.0.0->pdfminer.six) (2.21)\n"
          ]
        }
      ]
    },
    {
      "cell_type": "code",
      "source": [
        "rootdir = '/content/drive/MyDrive/DataForMasterProject/ActualDataFolder/RegExData'"
      ],
      "metadata": {
        "id": "9G5TIl-n9y3y"
      },
      "execution_count": null,
      "outputs": []
    },
    {
      "cell_type": "code",
      "source": [
        "import re\n",
        "from pdfminer.high_level import extract_text\n",
        "import spacy\n",
        "from spacy.matcher import Matcher"
      ],
      "metadata": {
        "id": "8-9tglcF-4p7"
      },
      "execution_count": null,
      "outputs": []
    },
    {
      "cell_type": "code",
      "source": [
        "def extract_text_from_pdf(pdf_path):\n",
        "    return extract_text(pdf_path)"
      ],
      "metadata": {
        "id": "YLTxkLqr_Y-v"
      },
      "execution_count": null,
      "outputs": []
    },
    {
      "cell_type": "code",
      "source": [
        "def extract_contact_number_from_resume(text):\n",
        "    contact_number = None\n",
        "\n",
        "    # Use regex pattern to find a potential contact number\n",
        "    pattern = r\"\\b(?:\\+?\\d{1,3}[-.\\s]?)?\\(?\\d{3}\\)?[-.\\s]?\\d{3}[-.\\s]?\\d{4}\\b\"\n",
        "    match = re.search(pattern, text)\n",
        "    if match:\n",
        "        contact_number = match.group()\n",
        "\n",
        "    return contact_number"
      ],
      "metadata": {
        "id": "5Ccv0yp6_dDL"
      },
      "execution_count": null,
      "outputs": []
    },
    {
      "cell_type": "code",
      "source": [
        "def extract_email_from_resume(text):\n",
        "    email = None\n",
        "\n",
        "    # Use regex pattern to find a potential email address\n",
        "    pattern = r\"\\b[A-Za-z0-9._%+-]+@[A-Za-z0-9.-]+\\.[A-Za-z]{2,}\\b\"\n",
        "    match = re.search(pattern, text)\n",
        "    if match:\n",
        "        email = match.group()\n",
        "\n",
        "    return email"
      ],
      "metadata": {
        "id": "yB0U2DBT_fTz"
      },
      "execution_count": null,
      "outputs": []
    },
    {
      "cell_type": "code",
      "source": [
        "def extract_skills_from_resume(text, skills_list):\n",
        "    skills = []\n",
        "\n",
        "    for skill in skills_list:\n",
        "        pattern = r\"\\b{}\\b\".format(re.escape(skill))\n",
        "        match = re.search(pattern, text, re.IGNORECASE)\n",
        "        if match:\n",
        "            skills.append(skill)\n",
        "\n",
        "    return skills"
      ],
      "metadata": {
        "id": "UsUetCpA_vf1"
      },
      "execution_count": null,
      "outputs": []
    },
    {
      "cell_type": "code",
      "source": [
        "def extract_education_from_resume(text):\n",
        "    education = []\n",
        "\n",
        "    # Use regex pattern to find education information\n",
        "    pattern = r\"(?i)(?:Bsc|\\bB\\.\\w+|\\bM\\.\\w+|\\bPh\\.D\\.\\w+|\\bBachelor(?:'s)?|\\bMaster(?:'s)?|\\bPh\\.D)\\s(?:\\w+\\s)*\\w+\"\n",
        "    matches = re.findall(pattern, text)\n",
        "    for match in matches:\n",
        "        education.append(match.strip())\n",
        "\n",
        "    return education"
      ],
      "metadata": {
        "id": "HGOZkDh7_2oC"
      },
      "execution_count": null,
      "outputs": []
    },
    {
      "cell_type": "code",
      "source": [
        "def extract_name(resume_text):\n",
        "    nlp = spacy.load('en_core_web_sm')\n",
        "    matcher = Matcher(nlp.vocab)\n",
        "\n",
        "    # Define name patterns\n",
        "    patterns = [\n",
        "        [{'POS': 'PROPN'}, {'POS': 'PROPN'}],  # First name and Last name\n",
        "        [{'POS': 'PROPN'}, {'POS': 'PROPN'}, {'POS': 'PROPN'}],  # First name, Middle name, and Last name\n",
        "        [{'POS': 'PROPN'}, {'POS': 'PROPN'}, {'POS': 'PROPN'}, {'POS': 'PROPN'}]  # First name, Middle name, Middle name, and Last name\n",
        "        # Add more patterns as needed\n",
        "    ]\n",
        "\n",
        "    for pattern in patterns:\n",
        "        matcher.add('NAME', patterns=[pattern])\n",
        "\n",
        "    doc = nlp(resume_text)\n",
        "    matches = matcher(doc)\n",
        "\n",
        "    for match_id, start, end in matches:\n",
        "        span = doc[start:end]\n",
        "        return span.text\n",
        "\n",
        "    return None"
      ],
      "metadata": {
        "id": "SShLoLbeADuv"
      },
      "execution_count": null,
      "outputs": []
    },
    {
      "cell_type": "code",
      "source": [
        "if __name__ == '__main__':\n",
        "    resume_paths = [r\"/content/drive/MyDrive/DataForMasterProject/ActualDataFolder/RegExData/resume1.pdf\"]\n",
        "\n",
        "    for resume_path in resume_paths:\n",
        "        text = extract_text_from_pdf(resume_path)\n",
        "\n",
        "        print(\"Resume:\", resume_path)\n",
        "\n",
        "        #name = extract_name(text)\n",
        "        if name:\n",
        "            print(\"Name:\", name)\n",
        "        else:\n",
        "            print(\"Name not found\")\n",
        "\n",
        "        contact_number = extract_contact_number_from_resume(text)\n",
        "        if contact_number:\n",
        "            print(\"Contact Number:\", contact_number)\n",
        "        else:\n",
        "            print(\"Contact Number not found\")\n",
        "\n",
        "        email = extract_email_from_resume(text)\n",
        "        if email:\n",
        "            print(\"Email:\", email)\n",
        "        else:\n",
        "            print(\"Email not found\")\n",
        "\n",
        "        skills_list = ['Python', 'Data Analysis', 'Machine Learning', 'Communication', 'Project Management', 'Deep Learning', 'SQL', 'Tableau']\n",
        "        extracted_skills = extract_skills_from_resume(text, skills_list)\n",
        "        if extracted_skills:\n",
        "            print(\"Skills:\", extracted_skills)\n",
        "        else:\n",
        "            print(\"No skills found\")\n",
        "\n",
        "        extracted_education = extract_education_from_resume(text)\n",
        "        if extracted_education:\n",
        "            print(\"Education:\", extracted_education)\n",
        "        else:\n",
        "            print(\"No education information found\")\n",
        "\n",
        "        print()\n"
      ],
      "metadata": {
        "colab": {
          "base_uri": "https://localhost:8080/"
        },
        "id": "xpGdAmdIAL_5",
        "outputId": "617cde3e-92ba-4577-bc8f-ab71b08fe2b3"
      },
      "execution_count": null,
      "outputs": [
        {
          "output_type": "stream",
          "name": "stdout",
          "text": [
            "Resume: /content/drive/MyDrive/DataForMasterProject/ActualDataFolder/RegExData/resume1.pdf\n",
            "Name not found\n",
            "Contact Number: 91-9448821250\n",
            "Email: kirankss@gmail.com\n",
            "Skills: ['Communication', 'SQL']\n",
            "Education: ['Bachelor of Engineering']\n",
            "\n"
          ]
        }
      ]
    },
    {
      "cell_type": "markdown",
      "source": [
        "**Named Entity Recognition (NER)**"
      ],
      "metadata": {
        "id": "On5xCdgUiTIh"
      }
    },
    {
      "cell_type": "markdown",
      "source": [
        "A named entity is basically a real-life object which has proper identification and can be denoted with a proper name. Named Entities can be a place, person, organization, time, object, or geographic entity."
      ],
      "metadata": {
        "id": "_nR24VzwqpEJ"
      }
    },
    {
      "cell_type": "markdown",
      "source": [
        "**Named Entity Recognition is the process of NLP which deals with identifying and classifying named entities.**"
      ],
      "metadata": {
        "id": "CsJIsr7uqwAn"
      }
    },
    {
      "cell_type": "markdown",
      "source": [
        "![image.png](data:image/png;base64,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)"
      ],
      "metadata": {
        "id": "SlBA8zOBq5rl"
      }
    },
    {
      "cell_type": "markdown",
      "source": [
        "![image.png](data:image/png;base64,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)"
      ],
      "metadata": {
        "id": "ApXYJfzerNl5"
      }
    },
    {
      "cell_type": "code",
      "source": [
        "!pip install -U pip setuptools wheel\n",
        "#!pip install -U spacy\n",
        "!pip install spacy\n",
        "!python -m spacy download en_core_web_sm\n",
        "!python -m spacy download en_core_web_lg\n",
        "!pip install lxml\n",
        "!pip install beautifulsoup4"
      ],
      "metadata": {
        "id": "aQg42-RhkevW"
      },
      "execution_count": null,
      "outputs": []
    },
    {
      "cell_type": "code",
      "source": [
        "import spacy\n",
        "spacy.__version__"
      ],
      "metadata": {
        "colab": {
          "base_uri": "https://localhost:8080/",
          "height": 36
        },
        "id": "cu_aFReO2o5V",
        "outputId": "3f406361-01e7-40ae-95f3-63fa5843daed"
      },
      "execution_count": null,
      "outputs": [
        {
          "output_type": "execute_result",
          "data": {
            "text/plain": [
              "'3.5.4'"
            ],
            "application/vnd.google.colaboratory.intrinsic+json": {
              "type": "string"
            }
          },
          "metadata": {},
          "execution_count": 114
        }
      ]
    },
    {
      "cell_type": "code",
      "source": [
        "import re\n",
        "import nltk\n",
        "import numpy as np\n",
        "import pandas as pd"
      ],
      "metadata": {
        "id": "5N6T7V_g0_5P"
      },
      "execution_count": null,
      "outputs": []
    },
    {
      "cell_type": "code",
      "source": [
        "PATH_FOLDER='/content/drive/MyDrive/DataForMasterProject/ResumeDataSet.csv'\n"
      ],
      "metadata": {
        "id": "s_-Rx3Puig5t"
      },
      "execution_count": null,
      "outputs": []
    },
    {
      "cell_type": "code",
      "source": [
        "df = pd.read_csv(PATH_FOLDER)\n",
        "\n",
        "print(df.head())\n",
        "\n",
        "# drop unused columns\n",
        "#del df['ID']\n",
        "#del df['Resume_html']\n",
        "print(df)"
      ],
      "metadata": {
        "colab": {
          "base_uri": "https://localhost:8080/"
        },
        "id": "499oRwd80bHH",
        "outputId": "f42e8a29-3191-45ac-af2b-de6303dd1811"
      },
      "execution_count": null,
      "outputs": [
        {
          "output_type": "stream",
          "name": "stdout",
          "text": [
            "         ID                                         Resume_str  \\\n",
            "0  16852973           HR ADMINISTRATOR/MARKETING ASSOCIATE\\...   \n",
            "1  22323967           HR SPECIALIST, US HR OPERATIONS      ...   \n",
            "2  33176873           HR DIRECTOR       Summary      Over 2...   \n",
            "3  27018550           HR SPECIALIST       Summary    Dedica...   \n",
            "4  17812897           HR MANAGER         Skill Highlights  ...   \n",
            "\n",
            "                                         Resume_html Category  \n",
            "0  <div class=\"fontsize fontface vmargins hmargin...       HR  \n",
            "1  <div class=\"fontsize fontface vmargins hmargin...       HR  \n",
            "2  <div class=\"fontsize fontface vmargins hmargin...       HR  \n",
            "3  <div class=\"fontsize fontface vmargins hmargin...       HR  \n",
            "4  <div class=\"fontsize fontface vmargins hmargin...       HR  \n",
            "            ID                                         Resume_str  \\\n",
            "0     16852973           HR ADMINISTRATOR/MARKETING ASSOCIATE\\...   \n",
            "1     22323967           HR SPECIALIST, US HR OPERATIONS      ...   \n",
            "2     33176873           HR DIRECTOR       Summary      Over 2...   \n",
            "3     27018550           HR SPECIALIST       Summary    Dedica...   \n",
            "4     17812897           HR MANAGER         Skill Highlights  ...   \n",
            "...        ...                                                ...   \n",
            "2479  99416532           RANK: SGT/E-5 NON- COMMISSIONED OFFIC...   \n",
            "2480  24589765           GOVERNMENT RELATIONS, COMMUNICATIONS ...   \n",
            "2481  31605080           GEEK SQUAD AGENT         Professional...   \n",
            "2482  21190805           PROGRAM DIRECTOR / OFFICE MANAGER    ...   \n",
            "2483  37473139           STOREKEEPER II       Professional Sum...   \n",
            "\n",
            "                                            Resume_html  Category  \n",
            "0     <div class=\"fontsize fontface vmargins hmargin...        HR  \n",
            "1     <div class=\"fontsize fontface vmargins hmargin...        HR  \n",
            "2     <div class=\"fontsize fontface vmargins hmargin...        HR  \n",
            "3     <div class=\"fontsize fontface vmargins hmargin...        HR  \n",
            "4     <div class=\"fontsize fontface vmargins hmargin...        HR  \n",
            "...                                                 ...       ...  \n",
            "2479  <div class=\"fontsize fontface vmargins hmargin...  AVIATION  \n",
            "2480  <div class=\"fontsize fontface vmargins hmargin...  AVIATION  \n",
            "2481  <div class=\"fontsize fontface vmargins hmargin...  AVIATION  \n",
            "2482  <div class=\"fontsize fontface vmargins hmargin...  AVIATION  \n",
            "2483  <div class=\"fontsize fontface vmargins hmargin...  AVIATION  \n",
            "\n",
            "[2484 rows x 4 columns]\n"
          ]
        }
      ]
    },
    {
      "cell_type": "code",
      "source": [
        "specific_Row_Col_Text = df.iloc[2][1]\n",
        "print(specific_Row_Col_Text)"
      ],
      "metadata": {
        "colab": {
          "base_uri": "https://localhost:8080/"
        },
        "id": "lyUuwiXj3vQy",
        "outputId": "dd48af09-843a-465b-81ad-65bc117ad8db"
      },
      "execution_count": null,
      "outputs": [
        {
          "output_type": "stream",
          "name": "stdout",
          "text": [
            "         HR DIRECTOR       Summary      Over 20 years experience in recruiting,   15 plus years in Human Resources Executive Management,   5 years of HRIS development and maintenance  4 years working in a Healthcare Enviroment        Skills          Recruiting  FMLA/EEO/FLSA   HRIS Development      Benefit Administration  Policy Development  Web Page Development             Accomplishments      Kansas Health Institute -Health Outcomes for the State of Kansas -1999 \n",
            "Memberships and Accolades: Project Management Institute Member, SHRM, Chamber of Commerce, 1999 Friends University President's Honor Roll, 1997 Friends University Dean's Honor Roll, Student Liaison for Friends University Topeka (member of Mother-To-Mother, member of the Topeka \n",
            "Advertising Federation, several production pieces created nominated for ADDY Awards, received recognition for outstanding customer service assistance by the State of Kansas Travel and Tourism Department., ASHHRA, KAHHR, ACM.  Additional Information: \n",
            "Leading Change -I have been instrumental in development and implementation of the Adjutant General's Retention Research project, involving survey development and analyzing the results of the surveys to present to the Adjutant General to help retain the qualified talent of the Departments.  I have been tasked with working with the Federal Security Manager for the Joint Forces Headquarters in developing policies, procedures and processes to ensure that all current and new State Employees have the appropriate security clearances for the position held per the Federal Government Requirements.  While at LMIS, I lead the Job Vacancy Project and was able to produce results in less time and man hours than in years before with staff that were inexperienced in the JVC process and procedures.  I have been responsible to develop, plan and implement database programs, for the last three positions I have held.  These were designed to cultivate, involve, renew contact, and promote active and potential employees.  These databases were used for reporting FTE usage, budget management and turnover reports.  While working in the healthcare field, I took the initiative in creating a local website that was used to receive and respond to requests for information and assistance in marketing and promoting the healthcare facility along with recruitment of potential employees.  As Human Resource Coordinator in the healthcare field, I managed the front office personnel, reduced contract labor costs for nursing staff and implemented a unique pay structure to increase PRN staff utilization.  I continually think \"Outside-the-box\" to create and develop strategies to resolve issues faced in my work environment.  In my current position, I have met and exceeded all hiring goals for the firm.  This resulted in our client increasing the business transferred to our location.        Experience      HR Director   09/2016   to   Current     Company Name   City  ,   State       Developed New Website for Agency, payroll processing changes, and implementation of\n",
            "new HRIS System.   Oversaw the employment process taking the lead role in clinician, physician and management\n",
            "team recruitment initiatives.\n",
            "\n",
            "  Developed, maintain\n",
            "and interpret HR policy. Authored the Employee Handbook.\n",
            "\n",
            "Provided coaching\n",
            "and support to management and supervisors on performance management and other\n",
            "related issues. \n",
            "\n",
            "  Maintained in-depth\n",
            "knowledge of legal requirements related to day-to-day management of employees,\n",
            "reducing legal risks and ensuring regulatory compliance.   Evaluated and\n",
            "recommend changes to the employee benefits plan. Oversaw day to day\n",
            "administration of benefits.            HR Director   04/2009   to   09/2016     Company Name   City  ,   State       Develped Supervisory Education, SHRO Website, SHRO HRIS System and Automation of payroll processing.  Established and directed a comprehensive statewide human resource program for both classified and unclassified State employees/positions in the Adjutant General's Department.  Resolved non-routine HR related issues associated as they arose; reviewed documents and approved all hires and promotions; reviews and approved, modified and/or disapproved wage/salary requests to hire individuals above the pre-established minimum classified or unclassified pay rate,   Reviewed any significant changes to position descriptions and determined if reclassification should be pursued; reviewed position descriptions for new positions and determined the appropriate wage range based on comparable classified position (if they exist),   Consulted with the TAG and both military and state manager/ supervisors in order to provide technical and common sense guidance on properly addressing sensitive or complex employee and organizational issues; aided them in achieving their ever changing program goals and provided innovative ideas for staffing;             Served as the administration's management representative in labor negotiations with the local KAPE unit at the 190th Fire Department.          HR Manager/Sr. Recruiter   10/2003   to   06/2006     Company Name   City  ,   State       Created an HRIS tracking system used for recruitment.  Responsible for Ramp up and hiring of all customer service agents, and other positions as needed.  Placement and development of all advertising \n",
            "Met and exceeded all hiring goals. Responsible for Hiring Senior Management to cover such duties as: Team Managers, Payroll, Quality Control.  Responsible for recruitment of 950 new employees, meeting and exceeded goals set.  Coordinated and facilitated manpower planning, recruitment and retention, career development and training, staff relations, compensation and benefits, compliance with local, state and federal statutory regulations, public programs, and regulatory audit procedures.  Served as a resource person to administration, mid-level management and staff regarding HR related.          Human Resources Coordinator   03/1996   to   02/2000     Company Name   City  ,   State       Developed HRIS database from ground up for employee records and monitoring.  Instrumental in reducing the use of Agency Staffing needs for hospital.  Coordinated and facilitates manpower planning, recruitment and retention, career development and training, staff relations, compensation and benefits, compliance with local, state and federal statutory regulations, public programs, and regulatory audit procedures.  Served as the HR resource source for administration, mid-level management and staff.  Coordinated hiring procedures, appraisals, pay increases, promotions, transfers, terminations, job postings, and all corrective actions;  One Person Office, responsible for all OSHA, Work Comp, Benefits, payroll, etc.          Education and Training      Master's Degree  :   Information Management Systems   05/2005       Friends University   City  ,   State  ,   United States     3.5 Credits Earned: 62 Semester hours Information Management Systems        Bachelor of Science  :   Organizational Management   05/2000       Friends University   City  ,   State  ,   United States      4.0 Credits Earned: 62 Semester hours             Activities and Honors    Topeka Chamber of Commerce -Ambassador \n",
            "Kansas Hospital Association -Health Care Human Resources Member \n",
            "SHRM -Legislative Liaison      Skills      Desktop Publishing,   Newsletter productions,   DATABASE Management,   Leadership \n",
            "\n",
            "Training,  OSHA, FMLA, \n",
            "\n",
            "Workers Compensation.   PageMaker,   Agency Automation, back-up,   Benefits,  Budget management,  Corel Suite,   Harvard Graphics,  Access, Excel, Microsoft Publisher, MS Word,    Quark Express, Quattro Pro,   Strategic Planning,    Web page development,   WordPerfect     \n"
          ]
        }
      ]
    },
    {
      "cell_type": "code",
      "source": [
        "!python -m spacy info"
      ],
      "metadata": {
        "colab": {
          "base_uri": "https://localhost:8080/"
        },
        "id": "NLek3NUV5--b",
        "outputId": "e360dace-04b6-41fd-b28f-fd25b297a184"
      },
      "execution_count": null,
      "outputs": [
        {
          "output_type": "stream",
          "name": "stdout",
          "text": [
            "2023-07-14 05:56:07.905389: W tensorflow/compiler/tf2tensorrt/utils/py_utils.cc:38] TF-TRT Warning: Could not find TensorRT\n",
            "\u001b[1m\n",
            "============================== Info about spaCy ==============================\u001b[0m\n",
            "\n",
            "spaCy version    3.6.0                         \n",
            "Location         /usr/local/lib/python3.10/dist-packages/spacy\n",
            "Platform         Linux-5.15.109+-x86_64-with-glibc2.31\n",
            "Python version   3.10.12                       \n",
            "Pipelines        en_core_web_sm (3.6.0), en_core_web_lg (3.6.0)\n",
            "\n"
          ]
        }
      ]
    },
    {
      "cell_type": "code",
      "source": [
        "!pip install --upgrade pip"
      ],
      "metadata": {
        "colab": {
          "base_uri": "https://localhost:8080/"
        },
        "id": "Eh5ItQYf_SCX",
        "outputId": "67d8e4c7-4025-403c-e7ee-4303e3abdd99"
      },
      "execution_count": null,
      "outputs": [
        {
          "output_type": "stream",
          "name": "stdout",
          "text": [
            "Requirement already satisfied: pip in /usr/local/lib/python3.10/dist-packages (23.1.2)\n"
          ]
        }
      ]
    },
    {
      "cell_type": "code",
      "source": [
        "!pip install -U spacy"
      ],
      "metadata": {
        "id": "ah4Ig44O6uxQ"
      },
      "execution_count": null,
      "outputs": []
    },
    {
      "cell_type": "code",
      "source": [
        "!python -m spacy download 'en_core_web_lg' --force"
      ],
      "metadata": {
        "id": "ygZ2AA6o7bxD"
      },
      "execution_count": null,
      "outputs": []
    },
    {
      "cell_type": "code",
      "source": [
        "import spacy"
      ],
      "metadata": {
        "id": "RYXZtPQC6lZR"
      },
      "execution_count": null,
      "outputs": []
    },
    {
      "cell_type": "code",
      "source": [
        "nlp = spacy.load('en_core_web_lg')"
      ],
      "metadata": {
        "id": "TgZsoGmM4F8F"
      },
      "execution_count": null,
      "outputs": []
    },
    {
      "cell_type": "markdown",
      "source": [
        "**Resume (CV) Parsing using Spacy 3**"
      ],
      "metadata": {
        "id": "6tlYNUGeY9qO"
      }
    },
    {
      "cell_type": "markdown",
      "source": [
        "https://spacy.io/\n",
        "\n",
        "Resume parsing technology converts an unstructured form of resume data into a structured format.\n",
        "A Resume Parser helps organizations eliminate the error-prone and time-consuming process and improves recruiters' efficiency.\n",
        "\n",
        "**Transformers for training and Prediction**"
      ],
      "metadata": {
        "id": "KmTyntIDaulL"
      }
    },
    {
      "cell_type": "code",
      "source": [
        "!pip install spacy_transformers\n",
        "!pip install -U spacy"
      ],
      "metadata": {
        "id": "mJOtsl8WbRLV"
      },
      "execution_count": null,
      "outputs": []
    },
    {
      "cell_type": "code",
      "source": [
        "import spacy\n",
        "from spacy.tokens import DocBin\n",
        "from tqdm import tqdm\n",
        "import json"
      ],
      "metadata": {
        "id": "eO0EqYv-bmj3"
      },
      "execution_count": null,
      "outputs": []
    },
    {
      "cell_type": "code",
      "source": [
        "spacy.__version__"
      ],
      "metadata": {
        "colab": {
          "base_uri": "https://localhost:8080/",
          "height": 36
        },
        "id": "WhxeAoxhbtmu",
        "outputId": "2a20c31d-ddd8-4221-9665-98dda66f4ec2"
      },
      "execution_count": null,
      "outputs": [
        {
          "output_type": "execute_result",
          "data": {
            "text/plain": [
              "'3.6.0'"
            ],
            "application/vnd.google.colaboratory.intrinsic+json": {
              "type": "string"
            }
          },
          "metadata": {},
          "execution_count": 3
        }
      ]
    }
  ],
  "metadata": {
    "colab": {
      "provenance": [],
      "gpuType": "T4",
      "mount_file_id": "1cQroeq4Zy4kAfdvkzFaUbErhaeJGRVou",
      "authorship_tag": "ABX9TyPtbHBjJLgCHmeGjppPIBmF"
    },
    "kernelspec": {
      "display_name": "Python 3",
      "name": "python3"
    },
    "language_info": {
      "name": "python"
    },
    "accelerator": "GPU"
  },
  "nbformat": 4,
  "nbformat_minor": 0
}